{
 "cells": [
  {
   "cell_type": "code",
   "execution_count": 1,
   "metadata": {},
   "outputs": [],
   "source": [
    "import pandas as pd\n"
   ]
  },
  {
   "cell_type": "markdown",
   "metadata": {},
   "source": []
  },
  {
   "cell_type": "code",
   "execution_count": 10,
   "metadata": {},
   "outputs": [
    {
     "name": "stderr",
     "output_type": "stream",
     "text": [
      "Matplotlib is building the font cache; this may take a moment.\n"
     ]
    }
   ],
   "source": [
    "import seaborn as sb"
   ]
  },
  {
   "cell_type": "code",
   "execution_count": 2,
   "metadata": {},
   "outputs": [
    {
     "data": {
      "text/html": [
       "<div>\n",
       "<style scoped>\n",
       "    .dataframe tbody tr th:only-of-type {\n",
       "        vertical-align: middle;\n",
       "    }\n",
       "\n",
       "    .dataframe tbody tr th {\n",
       "        vertical-align: top;\n",
       "    }\n",
       "\n",
       "    .dataframe thead th {\n",
       "        text-align: right;\n",
       "    }\n",
       "</style>\n",
       "<table border=\"1\" class=\"dataframe\">\n",
       "  <thead>\n",
       "    <tr style=\"text-align: right;\">\n",
       "      <th></th>\n",
       "      <th>N</th>\n",
       "      <th>P</th>\n",
       "      <th>K</th>\n",
       "      <th>temperature</th>\n",
       "      <th>humidity</th>\n",
       "      <th>ph</th>\n",
       "      <th>rainfall</th>\n",
       "      <th>label</th>\n",
       "    </tr>\n",
       "  </thead>\n",
       "  <tbody>\n",
       "    <tr>\n",
       "      <th>0</th>\n",
       "      <td>90</td>\n",
       "      <td>42</td>\n",
       "      <td>43</td>\n",
       "      <td>20.879744</td>\n",
       "      <td>82.002744</td>\n",
       "      <td>6.502985</td>\n",
       "      <td>202.935536</td>\n",
       "      <td>rice</td>\n",
       "    </tr>\n",
       "    <tr>\n",
       "      <th>1</th>\n",
       "      <td>85</td>\n",
       "      <td>58</td>\n",
       "      <td>41</td>\n",
       "      <td>21.770462</td>\n",
       "      <td>80.319644</td>\n",
       "      <td>7.038096</td>\n",
       "      <td>226.655537</td>\n",
       "      <td>rice</td>\n",
       "    </tr>\n",
       "    <tr>\n",
       "      <th>2</th>\n",
       "      <td>60</td>\n",
       "      <td>55</td>\n",
       "      <td>44</td>\n",
       "      <td>23.004459</td>\n",
       "      <td>82.320763</td>\n",
       "      <td>7.840207</td>\n",
       "      <td>263.964248</td>\n",
       "      <td>rice</td>\n",
       "    </tr>\n",
       "    <tr>\n",
       "      <th>3</th>\n",
       "      <td>74</td>\n",
       "      <td>35</td>\n",
       "      <td>40</td>\n",
       "      <td>26.491096</td>\n",
       "      <td>80.158363</td>\n",
       "      <td>6.980401</td>\n",
       "      <td>242.864034</td>\n",
       "      <td>rice</td>\n",
       "    </tr>\n",
       "    <tr>\n",
       "      <th>4</th>\n",
       "      <td>78</td>\n",
       "      <td>42</td>\n",
       "      <td>42</td>\n",
       "      <td>20.130175</td>\n",
       "      <td>81.604873</td>\n",
       "      <td>7.628473</td>\n",
       "      <td>262.717340</td>\n",
       "      <td>rice</td>\n",
       "    </tr>\n",
       "    <tr>\n",
       "      <th>...</th>\n",
       "      <td>...</td>\n",
       "      <td>...</td>\n",
       "      <td>...</td>\n",
       "      <td>...</td>\n",
       "      <td>...</td>\n",
       "      <td>...</td>\n",
       "      <td>...</td>\n",
       "      <td>...</td>\n",
       "    </tr>\n",
       "    <tr>\n",
       "      <th>2195</th>\n",
       "      <td>107</td>\n",
       "      <td>34</td>\n",
       "      <td>32</td>\n",
       "      <td>26.774637</td>\n",
       "      <td>66.413269</td>\n",
       "      <td>6.780064</td>\n",
       "      <td>177.774507</td>\n",
       "      <td>coffee</td>\n",
       "    </tr>\n",
       "    <tr>\n",
       "      <th>2196</th>\n",
       "      <td>99</td>\n",
       "      <td>15</td>\n",
       "      <td>27</td>\n",
       "      <td>27.417112</td>\n",
       "      <td>56.636362</td>\n",
       "      <td>6.086922</td>\n",
       "      <td>127.924610</td>\n",
       "      <td>coffee</td>\n",
       "    </tr>\n",
       "    <tr>\n",
       "      <th>2197</th>\n",
       "      <td>118</td>\n",
       "      <td>33</td>\n",
       "      <td>30</td>\n",
       "      <td>24.131797</td>\n",
       "      <td>67.225123</td>\n",
       "      <td>6.362608</td>\n",
       "      <td>173.322839</td>\n",
       "      <td>coffee</td>\n",
       "    </tr>\n",
       "    <tr>\n",
       "      <th>2198</th>\n",
       "      <td>117</td>\n",
       "      <td>32</td>\n",
       "      <td>34</td>\n",
       "      <td>26.272418</td>\n",
       "      <td>52.127394</td>\n",
       "      <td>6.758793</td>\n",
       "      <td>127.175293</td>\n",
       "      <td>coffee</td>\n",
       "    </tr>\n",
       "    <tr>\n",
       "      <th>2199</th>\n",
       "      <td>104</td>\n",
       "      <td>18</td>\n",
       "      <td>30</td>\n",
       "      <td>23.603016</td>\n",
       "      <td>60.396475</td>\n",
       "      <td>6.779833</td>\n",
       "      <td>140.937041</td>\n",
       "      <td>coffee</td>\n",
       "    </tr>\n",
       "  </tbody>\n",
       "</table>\n",
       "<p>2200 rows × 8 columns</p>\n",
       "</div>"
      ],
      "text/plain": [
       "        N   P   K  temperature   humidity        ph    rainfall   label\n",
       "0      90  42  43    20.879744  82.002744  6.502985  202.935536    rice\n",
       "1      85  58  41    21.770462  80.319644  7.038096  226.655537    rice\n",
       "2      60  55  44    23.004459  82.320763  7.840207  263.964248    rice\n",
       "3      74  35  40    26.491096  80.158363  6.980401  242.864034    rice\n",
       "4      78  42  42    20.130175  81.604873  7.628473  262.717340    rice\n",
       "...   ...  ..  ..          ...        ...       ...         ...     ...\n",
       "2195  107  34  32    26.774637  66.413269  6.780064  177.774507  coffee\n",
       "2196   99  15  27    27.417112  56.636362  6.086922  127.924610  coffee\n",
       "2197  118  33  30    24.131797  67.225123  6.362608  173.322839  coffee\n",
       "2198  117  32  34    26.272418  52.127394  6.758793  127.175293  coffee\n",
       "2199  104  18  30    23.603016  60.396475  6.779833  140.937041  coffee\n",
       "\n",
       "[2200 rows x 8 columns]"
      ]
     },
     "execution_count": 2,
     "metadata": {},
     "output_type": "execute_result"
    }
   ],
   "source": [
    "df= pd.read_csv('Crop_recommendation.csv')\n",
    "df    "
   ]
  },
  {
   "cell_type": "code",
   "execution_count": 3,
   "metadata": {},
   "outputs": [
    {
     "data": {
      "text/html": [
       "<div>\n",
       "<style scoped>\n",
       "    .dataframe tbody tr th:only-of-type {\n",
       "        vertical-align: middle;\n",
       "    }\n",
       "\n",
       "    .dataframe tbody tr th {\n",
       "        vertical-align: top;\n",
       "    }\n",
       "\n",
       "    .dataframe thead th {\n",
       "        text-align: right;\n",
       "    }\n",
       "</style>\n",
       "<table border=\"1\" class=\"dataframe\">\n",
       "  <thead>\n",
       "    <tr style=\"text-align: right;\">\n",
       "      <th></th>\n",
       "      <th>N</th>\n",
       "      <th>P</th>\n",
       "      <th>K</th>\n",
       "      <th>temperature</th>\n",
       "      <th>humidity</th>\n",
       "      <th>ph</th>\n",
       "      <th>rainfall</th>\n",
       "      <th>label</th>\n",
       "    </tr>\n",
       "  </thead>\n",
       "  <tbody>\n",
       "    <tr>\n",
       "      <th>0</th>\n",
       "      <td>90</td>\n",
       "      <td>42</td>\n",
       "      <td>43</td>\n",
       "      <td>20.879744</td>\n",
       "      <td>82.002744</td>\n",
       "      <td>6.502985</td>\n",
       "      <td>202.935536</td>\n",
       "      <td>rice</td>\n",
       "    </tr>\n",
       "    <tr>\n",
       "      <th>1</th>\n",
       "      <td>85</td>\n",
       "      <td>58</td>\n",
       "      <td>41</td>\n",
       "      <td>21.770462</td>\n",
       "      <td>80.319644</td>\n",
       "      <td>7.038096</td>\n",
       "      <td>226.655537</td>\n",
       "      <td>rice</td>\n",
       "    </tr>\n",
       "    <tr>\n",
       "      <th>2</th>\n",
       "      <td>60</td>\n",
       "      <td>55</td>\n",
       "      <td>44</td>\n",
       "      <td>23.004459</td>\n",
       "      <td>82.320763</td>\n",
       "      <td>7.840207</td>\n",
       "      <td>263.964248</td>\n",
       "      <td>rice</td>\n",
       "    </tr>\n",
       "    <tr>\n",
       "      <th>3</th>\n",
       "      <td>74</td>\n",
       "      <td>35</td>\n",
       "      <td>40</td>\n",
       "      <td>26.491096</td>\n",
       "      <td>80.158363</td>\n",
       "      <td>6.980401</td>\n",
       "      <td>242.864034</td>\n",
       "      <td>rice</td>\n",
       "    </tr>\n",
       "    <tr>\n",
       "      <th>4</th>\n",
       "      <td>78</td>\n",
       "      <td>42</td>\n",
       "      <td>42</td>\n",
       "      <td>20.130175</td>\n",
       "      <td>81.604873</td>\n",
       "      <td>7.628473</td>\n",
       "      <td>262.717340</td>\n",
       "      <td>rice</td>\n",
       "    </tr>\n",
       "  </tbody>\n",
       "</table>\n",
       "</div>"
      ],
      "text/plain": [
       "    N   P   K  temperature   humidity        ph    rainfall label\n",
       "0  90  42  43    20.879744  82.002744  6.502985  202.935536  rice\n",
       "1  85  58  41    21.770462  80.319644  7.038096  226.655537  rice\n",
       "2  60  55  44    23.004459  82.320763  7.840207  263.964248  rice\n",
       "3  74  35  40    26.491096  80.158363  6.980401  242.864034  rice\n",
       "4  78  42  42    20.130175  81.604873  7.628473  262.717340  rice"
      ]
     },
     "execution_count": 3,
     "metadata": {},
     "output_type": "execute_result"
    }
   ],
   "source": [
    "df.head()"
   ]
  },
  {
   "cell_type": "code",
   "execution_count": 4,
   "metadata": {},
   "outputs": [
    {
     "data": {
      "text/html": [
       "<div>\n",
       "<style scoped>\n",
       "    .dataframe tbody tr th:only-of-type {\n",
       "        vertical-align: middle;\n",
       "    }\n",
       "\n",
       "    .dataframe tbody tr th {\n",
       "        vertical-align: top;\n",
       "    }\n",
       "\n",
       "    .dataframe thead th {\n",
       "        text-align: right;\n",
       "    }\n",
       "</style>\n",
       "<table border=\"1\" class=\"dataframe\">\n",
       "  <thead>\n",
       "    <tr style=\"text-align: right;\">\n",
       "      <th></th>\n",
       "      <th>N</th>\n",
       "      <th>P</th>\n",
       "      <th>K</th>\n",
       "      <th>temperature</th>\n",
       "      <th>humidity</th>\n",
       "      <th>ph</th>\n",
       "      <th>rainfall</th>\n",
       "      <th>label</th>\n",
       "    </tr>\n",
       "  </thead>\n",
       "  <tbody>\n",
       "    <tr>\n",
       "      <th>2195</th>\n",
       "      <td>107</td>\n",
       "      <td>34</td>\n",
       "      <td>32</td>\n",
       "      <td>26.774637</td>\n",
       "      <td>66.413269</td>\n",
       "      <td>6.780064</td>\n",
       "      <td>177.774507</td>\n",
       "      <td>coffee</td>\n",
       "    </tr>\n",
       "    <tr>\n",
       "      <th>2196</th>\n",
       "      <td>99</td>\n",
       "      <td>15</td>\n",
       "      <td>27</td>\n",
       "      <td>27.417112</td>\n",
       "      <td>56.636362</td>\n",
       "      <td>6.086922</td>\n",
       "      <td>127.924610</td>\n",
       "      <td>coffee</td>\n",
       "    </tr>\n",
       "    <tr>\n",
       "      <th>2197</th>\n",
       "      <td>118</td>\n",
       "      <td>33</td>\n",
       "      <td>30</td>\n",
       "      <td>24.131797</td>\n",
       "      <td>67.225123</td>\n",
       "      <td>6.362608</td>\n",
       "      <td>173.322839</td>\n",
       "      <td>coffee</td>\n",
       "    </tr>\n",
       "    <tr>\n",
       "      <th>2198</th>\n",
       "      <td>117</td>\n",
       "      <td>32</td>\n",
       "      <td>34</td>\n",
       "      <td>26.272418</td>\n",
       "      <td>52.127394</td>\n",
       "      <td>6.758793</td>\n",
       "      <td>127.175293</td>\n",
       "      <td>coffee</td>\n",
       "    </tr>\n",
       "    <tr>\n",
       "      <th>2199</th>\n",
       "      <td>104</td>\n",
       "      <td>18</td>\n",
       "      <td>30</td>\n",
       "      <td>23.603016</td>\n",
       "      <td>60.396475</td>\n",
       "      <td>6.779833</td>\n",
       "      <td>140.937041</td>\n",
       "      <td>coffee</td>\n",
       "    </tr>\n",
       "  </tbody>\n",
       "</table>\n",
       "</div>"
      ],
      "text/plain": [
       "        N   P   K  temperature   humidity        ph    rainfall   label\n",
       "2195  107  34  32    26.774637  66.413269  6.780064  177.774507  coffee\n",
       "2196   99  15  27    27.417112  56.636362  6.086922  127.924610  coffee\n",
       "2197  118  33  30    24.131797  67.225123  6.362608  173.322839  coffee\n",
       "2198  117  32  34    26.272418  52.127394  6.758793  127.175293  coffee\n",
       "2199  104  18  30    23.603016  60.396475  6.779833  140.937041  coffee"
      ]
     },
     "execution_count": 4,
     "metadata": {},
     "output_type": "execute_result"
    }
   ],
   "source": [
    "df.tail()"
   ]
  },
  {
   "cell_type": "code",
   "execution_count": 5,
   "metadata": {},
   "outputs": [
    {
     "name": "stdout",
     "output_type": "stream",
     "text": [
      "<class 'pandas.core.frame.DataFrame'>\n",
      "RangeIndex: 2200 entries, 0 to 2199\n",
      "Data columns (total 8 columns):\n",
      " #   Column       Non-Null Count  Dtype  \n",
      "---  ------       --------------  -----  \n",
      " 0   N            2200 non-null   int64  \n",
      " 1   P            2200 non-null   int64  \n",
      " 2   K            2200 non-null   int64  \n",
      " 3   temperature  2200 non-null   float64\n",
      " 4   humidity     2200 non-null   float64\n",
      " 5   ph           2200 non-null   float64\n",
      " 6   rainfall     2200 non-null   float64\n",
      " 7   label        2200 non-null   object \n",
      "dtypes: float64(4), int64(3), object(1)\n",
      "memory usage: 137.6+ KB\n"
     ]
    }
   ],
   "source": [
    "df.info()"
   ]
  },
  {
   "cell_type": "code",
   "execution_count": 6,
   "metadata": {},
   "outputs": [
    {
     "data": {
      "text/html": [
       "<div>\n",
       "<style scoped>\n",
       "    .dataframe tbody tr th:only-of-type {\n",
       "        vertical-align: middle;\n",
       "    }\n",
       "\n",
       "    .dataframe tbody tr th {\n",
       "        vertical-align: top;\n",
       "    }\n",
       "\n",
       "    .dataframe thead th {\n",
       "        text-align: right;\n",
       "    }\n",
       "</style>\n",
       "<table border=\"1\" class=\"dataframe\">\n",
       "  <thead>\n",
       "    <tr style=\"text-align: right;\">\n",
       "      <th></th>\n",
       "      <th>N</th>\n",
       "      <th>P</th>\n",
       "      <th>K</th>\n",
       "      <th>temperature</th>\n",
       "      <th>humidity</th>\n",
       "      <th>ph</th>\n",
       "      <th>rainfall</th>\n",
       "    </tr>\n",
       "  </thead>\n",
       "  <tbody>\n",
       "    <tr>\n",
       "      <th>count</th>\n",
       "      <td>2200.000000</td>\n",
       "      <td>2200.000000</td>\n",
       "      <td>2200.000000</td>\n",
       "      <td>2200.000000</td>\n",
       "      <td>2200.000000</td>\n",
       "      <td>2200.000000</td>\n",
       "      <td>2200.000000</td>\n",
       "    </tr>\n",
       "    <tr>\n",
       "      <th>mean</th>\n",
       "      <td>50.551818</td>\n",
       "      <td>53.362727</td>\n",
       "      <td>48.149091</td>\n",
       "      <td>25.616244</td>\n",
       "      <td>71.481779</td>\n",
       "      <td>6.469480</td>\n",
       "      <td>103.463655</td>\n",
       "    </tr>\n",
       "    <tr>\n",
       "      <th>std</th>\n",
       "      <td>36.917334</td>\n",
       "      <td>32.985883</td>\n",
       "      <td>50.647931</td>\n",
       "      <td>5.063749</td>\n",
       "      <td>22.263812</td>\n",
       "      <td>0.773938</td>\n",
       "      <td>54.958389</td>\n",
       "    </tr>\n",
       "    <tr>\n",
       "      <th>min</th>\n",
       "      <td>0.000000</td>\n",
       "      <td>5.000000</td>\n",
       "      <td>5.000000</td>\n",
       "      <td>8.825675</td>\n",
       "      <td>14.258040</td>\n",
       "      <td>3.504752</td>\n",
       "      <td>20.211267</td>\n",
       "    </tr>\n",
       "    <tr>\n",
       "      <th>25%</th>\n",
       "      <td>21.000000</td>\n",
       "      <td>28.000000</td>\n",
       "      <td>20.000000</td>\n",
       "      <td>22.769375</td>\n",
       "      <td>60.261953</td>\n",
       "      <td>5.971693</td>\n",
       "      <td>64.551686</td>\n",
       "    </tr>\n",
       "    <tr>\n",
       "      <th>50%</th>\n",
       "      <td>37.000000</td>\n",
       "      <td>51.000000</td>\n",
       "      <td>32.000000</td>\n",
       "      <td>25.598693</td>\n",
       "      <td>80.473146</td>\n",
       "      <td>6.425045</td>\n",
       "      <td>94.867624</td>\n",
       "    </tr>\n",
       "    <tr>\n",
       "      <th>75%</th>\n",
       "      <td>84.250000</td>\n",
       "      <td>68.000000</td>\n",
       "      <td>49.000000</td>\n",
       "      <td>28.561654</td>\n",
       "      <td>89.948771</td>\n",
       "      <td>6.923643</td>\n",
       "      <td>124.267508</td>\n",
       "    </tr>\n",
       "    <tr>\n",
       "      <th>max</th>\n",
       "      <td>140.000000</td>\n",
       "      <td>145.000000</td>\n",
       "      <td>205.000000</td>\n",
       "      <td>43.675493</td>\n",
       "      <td>99.981876</td>\n",
       "      <td>9.935091</td>\n",
       "      <td>298.560117</td>\n",
       "    </tr>\n",
       "  </tbody>\n",
       "</table>\n",
       "</div>"
      ],
      "text/plain": [
       "                 N            P            K  temperature     humidity  \\\n",
       "count  2200.000000  2200.000000  2200.000000  2200.000000  2200.000000   \n",
       "mean     50.551818    53.362727    48.149091    25.616244    71.481779   \n",
       "std      36.917334    32.985883    50.647931     5.063749    22.263812   \n",
       "min       0.000000     5.000000     5.000000     8.825675    14.258040   \n",
       "25%      21.000000    28.000000    20.000000    22.769375    60.261953   \n",
       "50%      37.000000    51.000000    32.000000    25.598693    80.473146   \n",
       "75%      84.250000    68.000000    49.000000    28.561654    89.948771   \n",
       "max     140.000000   145.000000   205.000000    43.675493    99.981876   \n",
       "\n",
       "                ph     rainfall  \n",
       "count  2200.000000  2200.000000  \n",
       "mean      6.469480   103.463655  \n",
       "std       0.773938    54.958389  \n",
       "min       3.504752    20.211267  \n",
       "25%       5.971693    64.551686  \n",
       "50%       6.425045    94.867624  \n",
       "75%       6.923643   124.267508  \n",
       "max       9.935091   298.560117  "
      ]
     },
     "execution_count": 6,
     "metadata": {},
     "output_type": "execute_result"
    }
   ],
   "source": [
    "df.describe()"
   ]
  },
  {
   "cell_type": "code",
   "execution_count": 7,
   "metadata": {},
   "outputs": [
    {
     "data": {
      "text/html": [
       "<div>\n",
       "<style scoped>\n",
       "    .dataframe tbody tr th:only-of-type {\n",
       "        vertical-align: middle;\n",
       "    }\n",
       "\n",
       "    .dataframe tbody tr th {\n",
       "        vertical-align: top;\n",
       "    }\n",
       "\n",
       "    .dataframe thead th {\n",
       "        text-align: right;\n",
       "    }\n",
       "</style>\n",
       "<table border=\"1\" class=\"dataframe\">\n",
       "  <thead>\n",
       "    <tr style=\"text-align: right;\">\n",
       "      <th></th>\n",
       "      <th>N</th>\n",
       "      <th>P</th>\n",
       "      <th>K</th>\n",
       "      <th>temperature</th>\n",
       "      <th>rainfall</th>\n",
       "      <th>humidity</th>\n",
       "      <th>ph</th>\n",
       "    </tr>\n",
       "  </thead>\n",
       "  <tbody>\n",
       "    <tr>\n",
       "      <th>count</th>\n",
       "      <td>2200.000000</td>\n",
       "      <td>2200.000000</td>\n",
       "      <td>2200.000000</td>\n",
       "      <td>2200.000000</td>\n",
       "      <td>2200.000000</td>\n",
       "      <td>2200.000000</td>\n",
       "      <td>2200.000000</td>\n",
       "    </tr>\n",
       "    <tr>\n",
       "      <th>mean</th>\n",
       "      <td>50.551818</td>\n",
       "      <td>53.362727</td>\n",
       "      <td>48.149091</td>\n",
       "      <td>25.616244</td>\n",
       "      <td>103.463655</td>\n",
       "      <td>71.481779</td>\n",
       "      <td>6.469480</td>\n",
       "    </tr>\n",
       "    <tr>\n",
       "      <th>std</th>\n",
       "      <td>36.917334</td>\n",
       "      <td>32.985883</td>\n",
       "      <td>50.647931</td>\n",
       "      <td>5.063749</td>\n",
       "      <td>54.958389</td>\n",
       "      <td>22.263812</td>\n",
       "      <td>0.773938</td>\n",
       "    </tr>\n",
       "    <tr>\n",
       "      <th>min</th>\n",
       "      <td>0.000000</td>\n",
       "      <td>5.000000</td>\n",
       "      <td>5.000000</td>\n",
       "      <td>8.825675</td>\n",
       "      <td>20.211267</td>\n",
       "      <td>14.258040</td>\n",
       "      <td>3.504752</td>\n",
       "    </tr>\n",
       "    <tr>\n",
       "      <th>25%</th>\n",
       "      <td>21.000000</td>\n",
       "      <td>28.000000</td>\n",
       "      <td>20.000000</td>\n",
       "      <td>22.769375</td>\n",
       "      <td>64.551686</td>\n",
       "      <td>60.261953</td>\n",
       "      <td>5.971693</td>\n",
       "    </tr>\n",
       "    <tr>\n",
       "      <th>50%</th>\n",
       "      <td>37.000000</td>\n",
       "      <td>51.000000</td>\n",
       "      <td>32.000000</td>\n",
       "      <td>25.598693</td>\n",
       "      <td>94.867624</td>\n",
       "      <td>80.473146</td>\n",
       "      <td>6.425045</td>\n",
       "    </tr>\n",
       "    <tr>\n",
       "      <th>75%</th>\n",
       "      <td>84.250000</td>\n",
       "      <td>68.000000</td>\n",
       "      <td>49.000000</td>\n",
       "      <td>28.561654</td>\n",
       "      <td>124.267508</td>\n",
       "      <td>89.948771</td>\n",
       "      <td>6.923643</td>\n",
       "    </tr>\n",
       "    <tr>\n",
       "      <th>max</th>\n",
       "      <td>140.000000</td>\n",
       "      <td>145.000000</td>\n",
       "      <td>205.000000</td>\n",
       "      <td>43.675493</td>\n",
       "      <td>298.560117</td>\n",
       "      <td>99.981876</td>\n",
       "      <td>9.935091</td>\n",
       "    </tr>\n",
       "  </tbody>\n",
       "</table>\n",
       "</div>"
      ],
      "text/plain": [
       "                 N            P            K  temperature     rainfall  \\\n",
       "count  2200.000000  2200.000000  2200.000000  2200.000000  2200.000000   \n",
       "mean     50.551818    53.362727    48.149091    25.616244   103.463655   \n",
       "std      36.917334    32.985883    50.647931     5.063749    54.958389   \n",
       "min       0.000000     5.000000     5.000000     8.825675    20.211267   \n",
       "25%      21.000000    28.000000    20.000000    22.769375    64.551686   \n",
       "50%      37.000000    51.000000    32.000000    25.598693    94.867624   \n",
       "75%      84.250000    68.000000    49.000000    28.561654   124.267508   \n",
       "max     140.000000   145.000000   205.000000    43.675493   298.560117   \n",
       "\n",
       "          humidity           ph  \n",
       "count  2200.000000  2200.000000  \n",
       "mean     71.481779     6.469480  \n",
       "std      22.263812     0.773938  \n",
       "min      14.258040     3.504752  \n",
       "25%      60.261953     5.971693  \n",
       "50%      80.473146     6.425045  \n",
       "75%      89.948771     6.923643  \n",
       "max      99.981876     9.935091  "
      ]
     },
     "execution_count": 7,
     "metadata": {},
     "output_type": "execute_result"
    }
   ],
   "source": [
    "df[['N','P','K','temperature','rainfall','humidity','ph']].describe()"
   ]
  },
  {
   "cell_type": "code",
   "execution_count": 8,
   "metadata": {},
   "outputs": [
    {
     "data": {
      "text/html": [
       "<div>\n",
       "<style scoped>\n",
       "    .dataframe tbody tr th:only-of-type {\n",
       "        vertical-align: middle;\n",
       "    }\n",
       "\n",
       "    .dataframe tbody tr th {\n",
       "        vertical-align: top;\n",
       "    }\n",
       "\n",
       "    .dataframe thead th {\n",
       "        text-align: right;\n",
       "    }\n",
       "</style>\n",
       "<table border=\"1\" class=\"dataframe\">\n",
       "  <thead>\n",
       "    <tr style=\"text-align: right;\">\n",
       "      <th></th>\n",
       "      <th>N</th>\n",
       "      <th>P</th>\n",
       "      <th>K</th>\n",
       "      <th>temperature</th>\n",
       "      <th>humidity</th>\n",
       "      <th>ph</th>\n",
       "      <th>rainfall</th>\n",
       "    </tr>\n",
       "  </thead>\n",
       "  <tbody>\n",
       "    <tr>\n",
       "      <th>N</th>\n",
       "      <td>1.000000</td>\n",
       "      <td>-0.231460</td>\n",
       "      <td>-0.140512</td>\n",
       "      <td>0.026504</td>\n",
       "      <td>0.190688</td>\n",
       "      <td>0.096683</td>\n",
       "      <td>0.059020</td>\n",
       "    </tr>\n",
       "    <tr>\n",
       "      <th>P</th>\n",
       "      <td>-0.231460</td>\n",
       "      <td>1.000000</td>\n",
       "      <td>0.736232</td>\n",
       "      <td>-0.127541</td>\n",
       "      <td>-0.118734</td>\n",
       "      <td>-0.138019</td>\n",
       "      <td>-0.063839</td>\n",
       "    </tr>\n",
       "    <tr>\n",
       "      <th>K</th>\n",
       "      <td>-0.140512</td>\n",
       "      <td>0.736232</td>\n",
       "      <td>1.000000</td>\n",
       "      <td>-0.160387</td>\n",
       "      <td>0.190859</td>\n",
       "      <td>-0.169503</td>\n",
       "      <td>-0.053461</td>\n",
       "    </tr>\n",
       "    <tr>\n",
       "      <th>temperature</th>\n",
       "      <td>0.026504</td>\n",
       "      <td>-0.127541</td>\n",
       "      <td>-0.160387</td>\n",
       "      <td>1.000000</td>\n",
       "      <td>0.205320</td>\n",
       "      <td>-0.017795</td>\n",
       "      <td>-0.030084</td>\n",
       "    </tr>\n",
       "    <tr>\n",
       "      <th>humidity</th>\n",
       "      <td>0.190688</td>\n",
       "      <td>-0.118734</td>\n",
       "      <td>0.190859</td>\n",
       "      <td>0.205320</td>\n",
       "      <td>1.000000</td>\n",
       "      <td>-0.008483</td>\n",
       "      <td>0.094423</td>\n",
       "    </tr>\n",
       "    <tr>\n",
       "      <th>ph</th>\n",
       "      <td>0.096683</td>\n",
       "      <td>-0.138019</td>\n",
       "      <td>-0.169503</td>\n",
       "      <td>-0.017795</td>\n",
       "      <td>-0.008483</td>\n",
       "      <td>1.000000</td>\n",
       "      <td>-0.109069</td>\n",
       "    </tr>\n",
       "    <tr>\n",
       "      <th>rainfall</th>\n",
       "      <td>0.059020</td>\n",
       "      <td>-0.063839</td>\n",
       "      <td>-0.053461</td>\n",
       "      <td>-0.030084</td>\n",
       "      <td>0.094423</td>\n",
       "      <td>-0.109069</td>\n",
       "      <td>1.000000</td>\n",
       "    </tr>\n",
       "  </tbody>\n",
       "</table>\n",
       "</div>"
      ],
      "text/plain": [
       "                    N         P         K  temperature  humidity        ph  \\\n",
       "N            1.000000 -0.231460 -0.140512     0.026504  0.190688  0.096683   \n",
       "P           -0.231460  1.000000  0.736232    -0.127541 -0.118734 -0.138019   \n",
       "K           -0.140512  0.736232  1.000000    -0.160387  0.190859 -0.169503   \n",
       "temperature  0.026504 -0.127541 -0.160387     1.000000  0.205320 -0.017795   \n",
       "humidity     0.190688 -0.118734  0.190859     0.205320  1.000000 -0.008483   \n",
       "ph           0.096683 -0.138019 -0.169503    -0.017795 -0.008483  1.000000   \n",
       "rainfall     0.059020 -0.063839 -0.053461    -0.030084  0.094423 -0.109069   \n",
       "\n",
       "             rainfall  \n",
       "N            0.059020  \n",
       "P           -0.063839  \n",
       "K           -0.053461  \n",
       "temperature -0.030084  \n",
       "humidity     0.094423  \n",
       "ph          -0.109069  \n",
       "rainfall     1.000000  "
      ]
     },
     "execution_count": 8,
     "metadata": {},
     "output_type": "execute_result"
    }
   ],
   "source": [
    "df.corr()"
   ]
  },
  {
   "cell_type": "code",
   "execution_count": 11,
   "metadata": {},
   "outputs": [
    {
     "data": {
      "text/plain": [
       "<AxesSubplot:>"
      ]
     },
     "execution_count": 11,
     "metadata": {},
     "output_type": "execute_result"
    },
    {
     "data": {
      "image/png": "[encoded data removed]",
      "text/plain": [
       "<Figure size 432x288 with 2 Axes>"
      ]
     },
     "metadata": {
      "needs_background": "light"
     },
     "output_type": "display_data"
    }
   ],
   "source": [
    "sb.heatmap(df.corr())"
   ]
  },
  {
   "cell_type": "code",
   "execution_count": null,
   "metadata": {},
   "outputs": [
    {
     "data": {
      "text/plain": [
       "Index(['N', 'P', 'K', 'temperature', 'humidity', 'ph', 'rainfall', 'label'], dtype='object')"
      ]
     },
     "execution_count": 178,
     "metadata": {},
     "output_type": "execute_result"
    }
   ],
   "source": [
    "df.columns\n"
   ]
  },
  {
   "cell_type": "code",
   "execution_count": null,
   "metadata": {},
   "outputs": [
    {
     "data": {
      "text/html": [
       "<div>\n",
       "<style scoped>\n",
       "    .dataframe tbody tr th:only-of-type {\n",
       "        vertical-align: middle;\n",
       "    }\n",
       "\n",
       "    .dataframe tbody tr th {\n",
       "        vertical-align: top;\n",
       "    }\n",
       "\n",
       "    .dataframe thead th {\n",
       "        text-align: right;\n",
       "    }\n",
       "</style>\n",
       "<table border=\"1\" class=\"dataframe\">\n",
       "  <thead>\n",
       "    <tr style=\"text-align: right;\">\n",
       "      <th></th>\n",
       "      <th>temperature</th>\n",
       "    </tr>\n",
       "  </thead>\n",
       "  <tbody>\n",
       "    <tr>\n",
       "      <th>0</th>\n",
       "      <td>20.879744</td>\n",
       "    </tr>\n",
       "    <tr>\n",
       "      <th>1</th>\n",
       "      <td>21.770462</td>\n",
       "    </tr>\n",
       "    <tr>\n",
       "      <th>2</th>\n",
       "      <td>23.004459</td>\n",
       "    </tr>\n",
       "    <tr>\n",
       "      <th>3</th>\n",
       "      <td>26.491096</td>\n",
       "    </tr>\n",
       "    <tr>\n",
       "      <th>4</th>\n",
       "      <td>20.130175</td>\n",
       "    </tr>\n",
       "    <tr>\n",
       "      <th>...</th>\n",
       "      <td>...</td>\n",
       "    </tr>\n",
       "    <tr>\n",
       "      <th>2195</th>\n",
       "      <td>26.774637</td>\n",
       "    </tr>\n",
       "    <tr>\n",
       "      <th>2196</th>\n",
       "      <td>27.417112</td>\n",
       "    </tr>\n",
       "    <tr>\n",
       "      <th>2197</th>\n",
       "      <td>24.131797</td>\n",
       "    </tr>\n",
       "    <tr>\n",
       "      <th>2198</th>\n",
       "      <td>26.272418</td>\n",
       "    </tr>\n",
       "    <tr>\n",
       "      <th>2199</th>\n",
       "      <td>23.603016</td>\n",
       "    </tr>\n",
       "  </tbody>\n",
       "</table>\n",
       "<p>2200 rows × 1 columns</p>\n",
       "</div>"
      ],
      "text/plain": [
       "      temperature\n",
       "0       20.879744\n",
       "1       21.770462\n",
       "2       23.004459\n",
       "3       26.491096\n",
       "4       20.130175\n",
       "...           ...\n",
       "2195    26.774637\n",
       "2196    27.417112\n",
       "2197    24.131797\n",
       "2198    26.272418\n",
       "2199    23.603016\n",
       "\n",
       "[2200 rows x 1 columns]"
      ]
     },
     "execution_count": 179,
     "metadata": {},
     "output_type": "execute_result"
    }
   ],
   "source": [
    "df[['temperature']]"
   ]
  },
  {
   "cell_type": "code",
   "execution_count": null,
   "metadata": {},
   "outputs": [
    {
     "data": {
      "text/plain": [
       "(2200, 8)"
      ]
     },
     "execution_count": 180,
     "metadata": {},
     "output_type": "execute_result"
    }
   ],
   "source": [
    "df.shape"
   ]
  },
  {
   "cell_type": "code",
   "execution_count": null,
   "metadata": {},
   "outputs": [
    {
     "data": {
      "text/html": [
       "<div>\n",
       "<style scoped>\n",
       "    .dataframe tbody tr th:only-of-type {\n",
       "        vertical-align: middle;\n",
       "    }\n",
       "\n",
       "    .dataframe tbody tr th {\n",
       "        vertical-align: top;\n",
       "    }\n",
       "\n",
       "    .dataframe thead th {\n",
       "        text-align: right;\n",
       "    }\n",
       "</style>\n",
       "<table border=\"1\" class=\"dataframe\">\n",
       "  <thead>\n",
       "    <tr style=\"text-align: right;\">\n",
       "      <th></th>\n",
       "      <th>N</th>\n",
       "      <th>P</th>\n",
       "      <th>K</th>\n",
       "      <th>temperature</th>\n",
       "      <th>humidity</th>\n",
       "      <th>ph</th>\n",
       "      <th>rainfall</th>\n",
       "      <th>label</th>\n",
       "    </tr>\n",
       "  </thead>\n",
       "  <tbody>\n",
       "    <tr>\n",
       "      <th>0</th>\n",
       "      <td>90</td>\n",
       "      <td>42</td>\n",
       "      <td>43</td>\n",
       "      <td>20.879744</td>\n",
       "      <td>82.002744</td>\n",
       "      <td>6.502985</td>\n",
       "      <td>202.935536</td>\n",
       "      <td>rice</td>\n",
       "    </tr>\n",
       "    <tr>\n",
       "      <th>1</th>\n",
       "      <td>85</td>\n",
       "      <td>58</td>\n",
       "      <td>41</td>\n",
       "      <td>21.770462</td>\n",
       "      <td>80.319644</td>\n",
       "      <td>7.038096</td>\n",
       "      <td>226.655537</td>\n",
       "      <td>rice</td>\n",
       "    </tr>\n",
       "    <tr>\n",
       "      <th>2</th>\n",
       "      <td>60</td>\n",
       "      <td>55</td>\n",
       "      <td>44</td>\n",
       "      <td>23.004459</td>\n",
       "      <td>82.320763</td>\n",
       "      <td>7.840207</td>\n",
       "      <td>263.964248</td>\n",
       "      <td>rice</td>\n",
       "    </tr>\n",
       "    <tr>\n",
       "      <th>3</th>\n",
       "      <td>74</td>\n",
       "      <td>35</td>\n",
       "      <td>40</td>\n",
       "      <td>26.491096</td>\n",
       "      <td>80.158363</td>\n",
       "      <td>6.980401</td>\n",
       "      <td>242.864034</td>\n",
       "      <td>rice</td>\n",
       "    </tr>\n",
       "    <tr>\n",
       "      <th>4</th>\n",
       "      <td>78</td>\n",
       "      <td>42</td>\n",
       "      <td>42</td>\n",
       "      <td>20.130175</td>\n",
       "      <td>81.604873</td>\n",
       "      <td>7.628473</td>\n",
       "      <td>262.717340</td>\n",
       "      <td>rice</td>\n",
       "    </tr>\n",
       "    <tr>\n",
       "      <th>...</th>\n",
       "      <td>...</td>\n",
       "      <td>...</td>\n",
       "      <td>...</td>\n",
       "      <td>...</td>\n",
       "      <td>...</td>\n",
       "      <td>...</td>\n",
       "      <td>...</td>\n",
       "      <td>...</td>\n",
       "    </tr>\n",
       "    <tr>\n",
       "      <th>2195</th>\n",
       "      <td>107</td>\n",
       "      <td>34</td>\n",
       "      <td>32</td>\n",
       "      <td>26.774637</td>\n",
       "      <td>66.413269</td>\n",
       "      <td>6.780064</td>\n",
       "      <td>177.774507</td>\n",
       "      <td>coffee</td>\n",
       "    </tr>\n",
       "    <tr>\n",
       "      <th>2196</th>\n",
       "      <td>99</td>\n",
       "      <td>15</td>\n",
       "      <td>27</td>\n",
       "      <td>27.417112</td>\n",
       "      <td>56.636362</td>\n",
       "      <td>6.086922</td>\n",
       "      <td>127.924610</td>\n",
       "      <td>coffee</td>\n",
       "    </tr>\n",
       "    <tr>\n",
       "      <th>2197</th>\n",
       "      <td>118</td>\n",
       "      <td>33</td>\n",
       "      <td>30</td>\n",
       "      <td>24.131797</td>\n",
       "      <td>67.225123</td>\n",
       "      <td>6.362608</td>\n",
       "      <td>173.322839</td>\n",
       "      <td>coffee</td>\n",
       "    </tr>\n",
       "    <tr>\n",
       "      <th>2198</th>\n",
       "      <td>117</td>\n",
       "      <td>32</td>\n",
       "      <td>34</td>\n",
       "      <td>26.272418</td>\n",
       "      <td>52.127394</td>\n",
       "      <td>6.758793</td>\n",
       "      <td>127.175293</td>\n",
       "      <td>coffee</td>\n",
       "    </tr>\n",
       "    <tr>\n",
       "      <th>2199</th>\n",
       "      <td>104</td>\n",
       "      <td>18</td>\n",
       "      <td>30</td>\n",
       "      <td>23.603016</td>\n",
       "      <td>60.396475</td>\n",
       "      <td>6.779833</td>\n",
       "      <td>140.937041</td>\n",
       "      <td>coffee</td>\n",
       "    </tr>\n",
       "  </tbody>\n",
       "</table>\n",
       "<p>2200 rows × 8 columns</p>\n",
       "</div>"
      ],
      "text/plain": [
       "        N   P   K  temperature   humidity        ph    rainfall   label\n",
       "0      90  42  43    20.879744  82.002744  6.502985  202.935536    rice\n",
       "1      85  58  41    21.770462  80.319644  7.038096  226.655537    rice\n",
       "2      60  55  44    23.004459  82.320763  7.840207  263.964248    rice\n",
       "3      74  35  40    26.491096  80.158363  6.980401  242.864034    rice\n",
       "4      78  42  42    20.130175  81.604873  7.628473  262.717340    rice\n",
       "...   ...  ..  ..          ...        ...       ...         ...     ...\n",
       "2195  107  34  32    26.774637  66.413269  6.780064  177.774507  coffee\n",
       "2196   99  15  27    27.417112  56.636362  6.086922  127.924610  coffee\n",
       "2197  118  33  30    24.131797  67.225123  6.362608  173.322839  coffee\n",
       "2198  117  32  34    26.272418  52.127394  6.758793  127.175293  coffee\n",
       "2199  104  18  30    23.603016  60.396475  6.779833  140.937041  coffee\n",
       "\n",
       "[2200 rows x 8 columns]"
      ]
     },
     "execution_count": 181,
     "metadata": {},
     "output_type": "execute_result"
    }
   ],
   "source": [
    "cleandf=df.dropna()\n",
    "cleandf"
   ]
  },
  {
   "cell_type": "code",
   "execution_count": null,
   "metadata": {},
   "outputs": [
    {
     "data": {
      "text/plain": [
       "(2200, 8)"
      ]
     },
     "execution_count": 182,
     "metadata": {},
     "output_type": "execute_result"
    }
   ],
   "source": [
    "cleandf.shape"
   ]
  },
  {
   "cell_type": "code",
   "execution_count": null,
   "metadata": {},
   "outputs": [
    {
     "data": {
      "text/plain": [
       "array([[ 90.        ,  42.        ,  43.        , ...,  82.00274423,\n",
       "          6.50298529, 202.9355362 ],\n",
       "       [ 85.        ,  58.        ,  41.        , ...,  80.31964408,\n",
       "          7.03809636, 226.6555374 ],\n",
       "       [ 60.        ,  55.        ,  44.        , ...,  82.3207629 ,\n",
       "          7.84020714, 263.9642476 ],\n",
       "       ...,\n",
       "       [118.        ,  33.        ,  30.        , ...,  67.22512329,\n",
       "          6.36260785, 173.3228386 ],\n",
       "       [117.        ,  32.        ,  34.        , ...,  52.12739421,\n",
       "          6.75879255, 127.1752928 ],\n",
       "       [104.        ,  18.        ,  30.        , ...,  60.39647474,\n",
       "          6.77983261, 140.9370415 ]])"
      ]
     },
     "execution_count": 183,
     "metadata": {},
     "output_type": "execute_result"
    }
   ],
   "source": [
    "x=cleandf[['N','P','K','temperature','humidity','ph','rainfall']].values\n",
    "x"
   ]
  },
  {
   "cell_type": "code",
   "execution_count": null,
   "metadata": {},
   "outputs": [
    {
     "data": {
      "text/plain": [
       "(2200, 7)"
      ]
     },
     "execution_count": 184,
     "metadata": {},
     "output_type": "execute_result"
    }
   ],
   "source": [
    "x.shape"
   ]
  },
  {
   "cell_type": "code",
   "execution_count": null,
   "metadata": {},
   "outputs": [
    {
     "data": {
      "text/plain": [
       "array([['rice'],\n",
       "       ['rice'],\n",
       "       ['rice'],\n",
       "       ...,\n",
       "       ['coffee'],\n",
       "       ['coffee'],\n",
       "       ['coffee']], dtype=object)"
      ]
     },
     "execution_count": 185,
     "metadata": {},
     "output_type": "execute_result"
    }
   ],
   "source": [
    "y=cleandf[['label']].values\n",
    "y"
   ]
  },
  {
   "cell_type": "code",
   "execution_count": null,
   "metadata": {},
   "outputs": [
    {
     "data": {
      "text/plain": [
       "N                int64\n",
       "P                int64\n",
       "K                int64\n",
       "temperature    float64\n",
       "humidity       float64\n",
       "ph             float64\n",
       "rainfall       float64\n",
       "label           object\n",
       "dtype: object"
      ]
     },
     "execution_count": 186,
     "metadata": {},
     "output_type": "execute_result"
    }
   ],
   "source": [
    "cleandf.dtypes"
   ]
  },
  {
   "cell_type": "code",
   "execution_count": null,
   "metadata": {},
   "outputs": [],
   "source": [
    "import matplotlib.pyplot as plt\n",
    "import seaborn as sb"
   ]
  },
  {
   "cell_type": "code",
   "execution_count": null,
   "metadata": {},
   "outputs": [
    {
     "data": {
      "image/png": "[encoded data removed]",
      "text/plain": [
       "<Figure size 432x288 with 1 Axes>"
      ]
     },
     "metadata": {
      "needs_background": "light"
     },
     "output_type": "display_data"
    }
   ],
   "source": [
    "plt.plot(cleandf[\"temperature\"],cleandf[\"rainfall\"],'r')\n",
    "plt.xlabel('Temperature')\n",
    "plt.ylabel('Rainfall')\n",
    "plt.title(\"x vs y\")\n",
    "plt.show()"
   ]
  },
  {
   "cell_type": "code",
   "execution_count": null,
   "metadata": {},
   "outputs": [
    {
     "data": {
      "image/png": "[encoded data removed]",
      "text/plain": [
       "<Figure size 432x288 with 1 Axes>"
      ]
     },
     "metadata": {
      "needs_background": "light"
     },
     "output_type": "display_data"
    }
   ],
   "source": [
    "plt.plot(cleandf[\"temperature\"],cleandf[\"humidity\"],'r')\n",
    "plt.xlabel('Temperature')\n",
    "plt.ylabel('Humidity')\n",
    "plt.title(\"x vs y\")\n",
    "plt.show()"
   ]
  },
  {
   "cell_type": "code",
   "execution_count": null,
   "metadata": {},
   "outputs": [
    {
     "data": {
      "image/png": "[encoded data removed]",
      "text/plain": [
       "<Figure size 432x288 with 1 Axes>"
      ]
     },
     "metadata": {
      "needs_background": "light"
     },
     "output_type": "display_data"
    }
   ],
   "source": [
    "plt.plot(cleandf[\"temperature\"],cleandf[\"label\"],'r')\n",
    "plt.xlabel('Temperature')\n",
    "plt.ylabel('Predicted crop')\n",
    "plt.title(\"x vs y\")\n",
    "plt.show()"
   ]
  },
  {
   "cell_type": "code",
   "execution_count": null,
   "metadata": {},
   "outputs": [
    {
     "data": {
      "image/png": "[encoded data removed]",
      "text/plain": [
       "<Figure size 432x288 with 1 Axes>"
      ]
     },
     "metadata": {
      "needs_background": "light"
     },
     "output_type": "display_data"
    }
   ],
   "source": [
    "plt.plot(cleandf[\"rainfall\"],cleandf[\"label\"],'r')\n",
    "plt.xlabel('Rainfall')\n",
    "plt.ylabel('Predicted crop')\n",
    "plt.title(\"x vs y\")\n",
    "plt.show()"
   ]
  },
  {
   "cell_type": "code",
   "execution_count": null,
   "metadata": {},
   "outputs": [
    {
     "data": {
      "image/png": "[encoded data removed]",
      "text/plain": [
       "<Figure size 432x288 with 1 Axes>"
      ]
     },
     "metadata": {
      "needs_background": "light"
     },
     "output_type": "display_data"
    }
   ],
   "source": [
    "plt.plot(cleandf[\"humidity\"],cleandf[\"label\"],'r')\n",
    "plt.xlabel('Humidity')\n",
    "plt.ylabel('Predicted crop')\n",
    "plt.title(\"x vs y\")\n",
    "plt.show()"
   ]
  },
  {
   "cell_type": "code",
   "execution_count": null,
   "metadata": {},
   "outputs": [
    {
     "data": {
      "image/png": "[encoded data removed]",
      "text/plain": [
       "<Figure size 432x288 with 1 Axes>"
      ]
     },
     "metadata": {
      "needs_background": "light"
     },
     "output_type": "display_data"
    }
   ],
   "source": [
    "temperature=cleandf['temperature']\n",
    "rainfall=cleandf['rainfall']\n",
    "plt.bar(temperature,rainfall)\n",
    "plt.show()"
   ]
  },
  {
   "cell_type": "code",
   "execution_count": null,
   "metadata": {},
   "outputs": [
    {
     "data": {
      "image/png": "[encoded data removed]",
      "text/plain": [
       "<Figure size 432x288 with 1 Axes>"
      ]
     },
     "metadata": {
      "needs_background": "light"
     },
     "output_type": "display_data"
    }
   ],
   "source": [
    "temperature=cleandf['temperature']\n",
    "humidity=cleandf['humidity']\n",
    "plt.bar(temperature,humidity)\n",
    "plt.show()"
   ]
  },
  {
   "cell_type": "code",
   "execution_count": null,
   "metadata": {},
   "outputs": [
    {
     "data": {
      "text/plain": [
       "<AxesSubplot:>"
      ]
     },
     "execution_count": 195,
     "metadata": {},
     "output_type": "execute_result"
    },
    {
     "data": {
      "image/png": "[encoded data removed]",
      "text/plain": [
       "<Figure size 432x288 with 1 Axes>"
      ]
     },
     "metadata": {
      "needs_background": "light"
     },
     "output_type": "display_data"
    }
   ],
   "source": [
    "cleandf[['temperature','rainfall','humidity','ph','N','P','K']].plot(kind='box')\n"
   ]
  },
  {
   "cell_type": "code",
   "execution_count": null,
   "metadata": {},
   "outputs": [
    {
     "data": {
      "text/plain": [
       "(array([[131.        ,  60.        ,  17.        , ...,  81.79475917,\n",
       "           7.42504132,  83.46532547],\n",
       "        [  9.        ,  66.        ,  21.        , ...,  34.13307843,\n",
       "           5.71988988, 157.0858232 ],\n",
       "        [ 38.        ,  15.        ,  27.        , ...,  48.50387598,\n",
       "           6.77778813,  92.26439205],\n",
       "        ...,\n",
       "        [ 81.        ,  41.        ,  38.        , ...,  83.72874389,\n",
       "           7.52408008, 200.9133156 ],\n",
       "        [ 37.        ,  10.        ,  32.        , ...,  95.16333673,\n",
       "           6.16508485, 222.803013  ],\n",
       "        [  2.        , 123.        , 205.        , ...,  90.78572467,\n",
       "           5.73965218, 124.9831618 ]]),\n",
       " array([[ 59.        ,  62.        ,  52.        , ...,  93.10887229,\n",
       "           6.60866768, 103.8235658 ],\n",
       "        [ 52.        ,  51.        ,  53.        , ...,  93.10378595,\n",
       "           6.98580408, 210.2735346 ],\n",
       "        [ 18.        ,  21.        ,  35.        , ...,  94.94330457,\n",
       "           6.36856052, 111.1382096 ],\n",
       "        ...,\n",
       "        [ 88.        ,  35.        ,  40.        , ...,  83.58760316,\n",
       "           5.85393208, 291.2986618 ],\n",
       "        [ 17.        ,  16.        ,  14.        , ...,  92.18151927,\n",
       "           6.62553865, 102.944161  ],\n",
       "        [104.        ,  17.        ,  46.        , ...,  80.22972777,\n",
       "           6.19001591,  43.08961827]]),\n",
       " array([['cotton'],\n",
       "        ['pigeonpeas'],\n",
       "        ['mango'],\n",
       "        ...,\n",
       "        ['rice'],\n",
       "        ['coconut'],\n",
       "        ['apple']], dtype=object),\n",
       " array([['papaya'],\n",
       "        ['papaya'],\n",
       "        ['pomegranate'],\n",
       "        ['cotton'],\n",
       "        ['jute'],\n",
       "        ['maize'],\n",
       "        ['muskmelon'],\n",
       "        ['rice'],\n",
       "        ['mungbean'],\n",
       "        ['kidneybeans'],\n",
       "        ['banana'],\n",
       "        ['pomegranate'],\n",
       "        ['papaya'],\n",
       "        ['mango'],\n",
       "        ['coffee'],\n",
       "        ['mothbeans'],\n",
       "        ['pigeonpeas'],\n",
       "        ['cotton'],\n",
       "        ['papaya'],\n",
       "        ['mothbeans'],\n",
       "        ['coconut'],\n",
       "        ['cotton'],\n",
       "        ['mango'],\n",
       "        ['mango'],\n",
       "        ['mungbean'],\n",
       "        ['cotton'],\n",
       "        ['apple'],\n",
       "        ['papaya'],\n",
       "        ['blackgram'],\n",
       "        ['mothbeans'],\n",
       "        ['cotton'],\n",
       "        ['coffee'],\n",
       "        ['pigeonpeas'],\n",
       "        ['mango'],\n",
       "        ['banana'],\n",
       "        ['muskmelon'],\n",
       "        ['cotton'],\n",
       "        ['papaya'],\n",
       "        ['watermelon'],\n",
       "        ['kidneybeans'],\n",
       "        ['jute'],\n",
       "        ['blackgram'],\n",
       "        ['maize'],\n",
       "        ['papaya'],\n",
       "        ['apple'],\n",
       "        ['blackgram'],\n",
       "        ['maize'],\n",
       "        ['cotton'],\n",
       "        ['mothbeans'],\n",
       "        ['pigeonpeas'],\n",
       "        ['grapes'],\n",
       "        ['kidneybeans'],\n",
       "        ['mothbeans'],\n",
       "        ['kidneybeans'],\n",
       "        ['mothbeans'],\n",
       "        ['orange'],\n",
       "        ['jute'],\n",
       "        ['orange'],\n",
       "        ['kidneybeans'],\n",
       "        ['banana'],\n",
       "        ['maize'],\n",
       "        ['blackgram'],\n",
       "        ['maize'],\n",
       "        ['grapes'],\n",
       "        ['lentil'],\n",
       "        ['pomegranate'],\n",
       "        ['kidneybeans'],\n",
       "        ['grapes'],\n",
       "        ['orange'],\n",
       "        ['kidneybeans'],\n",
       "        ['pomegranate'],\n",
       "        ['grapes'],\n",
       "        ['jute'],\n",
       "        ['watermelon'],\n",
       "        ['blackgram'],\n",
       "        ['kidneybeans'],\n",
       "        ['jute'],\n",
       "        ['coffee'],\n",
       "        ['mungbean'],\n",
       "        ['grapes'],\n",
       "        ['cotton'],\n",
       "        ['apple'],\n",
       "        ['kidneybeans'],\n",
       "        ['apple'],\n",
       "        ['muskmelon'],\n",
       "        ['pomegranate'],\n",
       "        ['papaya'],\n",
       "        ['coffee'],\n",
       "        ['blackgram'],\n",
       "        ['cotton'],\n",
       "        ['orange'],\n",
       "        ['jute'],\n",
       "        ['cotton'],\n",
       "        ['pomegranate'],\n",
       "        ['mango'],\n",
       "        ['apple'],\n",
       "        ['maize'],\n",
       "        ['cotton'],\n",
       "        ['mango'],\n",
       "        ['grapes'],\n",
       "        ['pomegranate'],\n",
       "        ['cotton'],\n",
       "        ['coffee'],\n",
       "        ['apple'],\n",
       "        ['blackgram'],\n",
       "        ['maize'],\n",
       "        ['pomegranate'],\n",
       "        ['mothbeans'],\n",
       "        ['banana'],\n",
       "        ['kidneybeans'],\n",
       "        ['lentil'],\n",
       "        ['apple'],\n",
       "        ['coconut'],\n",
       "        ['coconut'],\n",
       "        ['mango'],\n",
       "        ['lentil'],\n",
       "        ['chickpea'],\n",
       "        ['mothbeans'],\n",
       "        ['mungbean'],\n",
       "        ['maize'],\n",
       "        ['mango'],\n",
       "        ['coconut'],\n",
       "        ['blackgram'],\n",
       "        ['coffee'],\n",
       "        ['orange'],\n",
       "        ['jute'],\n",
       "        ['chickpea'],\n",
       "        ['mungbean'],\n",
       "        ['lentil'],\n",
       "        ['watermelon'],\n",
       "        ['coconut'],\n",
       "        ['apple'],\n",
       "        ['papaya'],\n",
       "        ['rice'],\n",
       "        ['banana'],\n",
       "        ['grapes'],\n",
       "        ['grapes'],\n",
       "        ['papaya'],\n",
       "        ['papaya'],\n",
       "        ['rice'],\n",
       "        ['banana'],\n",
       "        ['kidneybeans'],\n",
       "        ['coffee'],\n",
       "        ['muskmelon'],\n",
       "        ['maize'],\n",
       "        ['rice'],\n",
       "        ['pomegranate'],\n",
       "        ['pomegranate'],\n",
       "        ['grapes'],\n",
       "        ['apple'],\n",
       "        ['muskmelon'],\n",
       "        ['muskmelon'],\n",
       "        ['papaya'],\n",
       "        ['coconut'],\n",
       "        ['chickpea'],\n",
       "        ['banana'],\n",
       "        ['jute'],\n",
       "        ['watermelon'],\n",
       "        ['orange'],\n",
       "        ['papaya'],\n",
       "        ['papaya'],\n",
       "        ['chickpea'],\n",
       "        ['banana'],\n",
       "        ['coffee'],\n",
       "        ['pomegranate'],\n",
       "        ['chickpea'],\n",
       "        ['lentil'],\n",
       "        ['jute'],\n",
       "        ['lentil'],\n",
       "        ['pigeonpeas'],\n",
       "        ['coconut'],\n",
       "        ['kidneybeans'],\n",
       "        ['rice'],\n",
       "        ['chickpea'],\n",
       "        ['cotton'],\n",
       "        ['banana'],\n",
       "        ['mothbeans'],\n",
       "        ['mango'],\n",
       "        ['mungbean'],\n",
       "        ['coconut'],\n",
       "        ['grapes'],\n",
       "        ['lentil'],\n",
       "        ['pigeonpeas'],\n",
       "        ['coffee'],\n",
       "        ['lentil'],\n",
       "        ['cotton'],\n",
       "        ['lentil'],\n",
       "        ['jute'],\n",
       "        ['chickpea'],\n",
       "        ['rice'],\n",
       "        ['muskmelon'],\n",
       "        ['apple'],\n",
       "        ['mothbeans'],\n",
       "        ['banana'],\n",
       "        ['coffee'],\n",
       "        ['chickpea'],\n",
       "        ['kidneybeans'],\n",
       "        ['chickpea'],\n",
       "        ['orange'],\n",
       "        ['kidneybeans'],\n",
       "        ['kidneybeans'],\n",
       "        ['maize'],\n",
       "        ['orange'],\n",
       "        ['cotton'],\n",
       "        ['cotton'],\n",
       "        ['chickpea'],\n",
       "        ['grapes'],\n",
       "        ['banana'],\n",
       "        ['muskmelon'],\n",
       "        ['muskmelon'],\n",
       "        ['banana'],\n",
       "        ['jute'],\n",
       "        ['rice'],\n",
       "        ['blackgram'],\n",
       "        ['mothbeans'],\n",
       "        ['pomegranate'],\n",
       "        ['coffee'],\n",
       "        ['rice'],\n",
       "        ['orange'],\n",
       "        ['orange'],\n",
       "        ['mothbeans'],\n",
       "        ['mango'],\n",
       "        ['coconut'],\n",
       "        ['chickpea'],\n",
       "        ['mango'],\n",
       "        ['maize'],\n",
       "        ['pomegranate'],\n",
       "        ['orange'],\n",
       "        ['mango'],\n",
       "        ['mango'],\n",
       "        ['mungbean'],\n",
       "        ['coconut'],\n",
       "        ['pomegranate'],\n",
       "        ['chickpea'],\n",
       "        ['pomegranate'],\n",
       "        ['papaya'],\n",
       "        ['rice'],\n",
       "        ['jute'],\n",
       "        ['mothbeans'],\n",
       "        ['mungbean'],\n",
       "        ['jute'],\n",
       "        ['banana'],\n",
       "        ['mango'],\n",
       "        ['orange'],\n",
       "        ['mungbean'],\n",
       "        ['kidneybeans'],\n",
       "        ['mango'],\n",
       "        ['coffee'],\n",
       "        ['jute'],\n",
       "        ['pigeonpeas'],\n",
       "        ['muskmelon'],\n",
       "        ['pomegranate'],\n",
       "        ['chickpea'],\n",
       "        ['grapes'],\n",
       "        ['coconut'],\n",
       "        ['banana'],\n",
       "        ['pigeonpeas'],\n",
       "        ['apple'],\n",
       "        ['cotton'],\n",
       "        ['chickpea'],\n",
       "        ['chickpea'],\n",
       "        ['cotton'],\n",
       "        ['chickpea'],\n",
       "        ['lentil'],\n",
       "        ['blackgram'],\n",
       "        ['mothbeans'],\n",
       "        ['jute'],\n",
       "        ['mungbean'],\n",
       "        ['coconut'],\n",
       "        ['mothbeans'],\n",
       "        ['pomegranate'],\n",
       "        ['pigeonpeas'],\n",
       "        ['pigeonpeas'],\n",
       "        ['jute'],\n",
       "        ['apple'],\n",
       "        ['coconut'],\n",
       "        ['apple'],\n",
       "        ['chickpea'],\n",
       "        ['pigeonpeas'],\n",
       "        ['coffee'],\n",
       "        ['orange'],\n",
       "        ['blackgram'],\n",
       "        ['lentil'],\n",
       "        ['chickpea'],\n",
       "        ['coconut'],\n",
       "        ['pomegranate'],\n",
       "        ['mothbeans'],\n",
       "        ['papaya'],\n",
       "        ['grapes'],\n",
       "        ['maize'],\n",
       "        ['banana'],\n",
       "        ['pigeonpeas'],\n",
       "        ['muskmelon'],\n",
       "        ['rice'],\n",
       "        ['kidneybeans'],\n",
       "        ['grapes'],\n",
       "        ['cotton'],\n",
       "        ['mango'],\n",
       "        ['coconut'],\n",
       "        ['maize'],\n",
       "        ['coconut'],\n",
       "        ['banana'],\n",
       "        ['jute'],\n",
       "        ['watermelon'],\n",
       "        ['watermelon'],\n",
       "        ['coconut'],\n",
       "        ['grapes'],\n",
       "        ['orange'],\n",
       "        ['mothbeans'],\n",
       "        ['grapes'],\n",
       "        ['pigeonpeas'],\n",
       "        ['banana'],\n",
       "        ['coconut'],\n",
       "        ['coffee'],\n",
       "        ['maize'],\n",
       "        ['pomegranate'],\n",
       "        ['coconut'],\n",
       "        ['coffee'],\n",
       "        ['papaya'],\n",
       "        ['coconut'],\n",
       "        ['chickpea'],\n",
       "        ['jute'],\n",
       "        ['mango'],\n",
       "        ['mango'],\n",
       "        ['mungbean'],\n",
       "        ['mungbean'],\n",
       "        ['lentil'],\n",
       "        ['blackgram'],\n",
       "        ['banana'],\n",
       "        ['maize'],\n",
       "        ['apple'],\n",
       "        ['blackgram'],\n",
       "        ['lentil'],\n",
       "        ['coffee'],\n",
       "        ['papaya'],\n",
       "        ['rice'],\n",
       "        ['watermelon'],\n",
       "        ['mothbeans'],\n",
       "        ['watermelon'],\n",
       "        ['coffee'],\n",
       "        ['coffee'],\n",
       "        ['muskmelon'],\n",
       "        ['pigeonpeas'],\n",
       "        ['kidneybeans'],\n",
       "        ['chickpea'],\n",
       "        ['rice'],\n",
       "        ['blackgram'],\n",
       "        ['banana'],\n",
       "        ['grapes'],\n",
       "        ['jute'],\n",
       "        ['blackgram'],\n",
       "        ['coffee'],\n",
       "        ['pomegranate'],\n",
       "        ['chickpea'],\n",
       "        ['papaya'],\n",
       "        ['orange'],\n",
       "        ['chickpea'],\n",
       "        ['muskmelon'],\n",
       "        ['banana'],\n",
       "        ['jute'],\n",
       "        ['chickpea'],\n",
       "        ['maize'],\n",
       "        ['kidneybeans'],\n",
       "        ['coffee'],\n",
       "        ['orange'],\n",
       "        ['rice'],\n",
       "        ['lentil'],\n",
       "        ['blackgram'],\n",
       "        ['lentil'],\n",
       "        ['rice'],\n",
       "        ['cotton'],\n",
       "        ['apple'],\n",
       "        ['muskmelon'],\n",
       "        ['maize'],\n",
       "        ['lentil'],\n",
       "        ['blackgram'],\n",
       "        ['mothbeans'],\n",
       "        ['lentil'],\n",
       "        ['blackgram'],\n",
       "        ['lentil'],\n",
       "        ['pomegranate'],\n",
       "        ['coconut'],\n",
       "        ['mango'],\n",
       "        ['coconut'],\n",
       "        ['cotton'],\n",
       "        ['orange'],\n",
       "        ['coconut'],\n",
       "        ['rice'],\n",
       "        ['papaya'],\n",
       "        ['lentil'],\n",
       "        ['maize'],\n",
       "        ['apple'],\n",
       "        ['coffee'],\n",
       "        ['watermelon'],\n",
       "        ['pigeonpeas'],\n",
       "        ['lentil'],\n",
       "        ['mungbean'],\n",
       "        ['jute'],\n",
       "        ['jute'],\n",
       "        ['watermelon'],\n",
       "        ['grapes'],\n",
       "        ['coconut'],\n",
       "        ['pomegranate'],\n",
       "        ['apple'],\n",
       "        ['grapes'],\n",
       "        ['apple'],\n",
       "        ['muskmelon'],\n",
       "        ['orange'],\n",
       "        ['kidneybeans'],\n",
       "        ['blackgram'],\n",
       "        ['cotton'],\n",
       "        ['grapes'],\n",
       "        ['mango'],\n",
       "        ['coffee'],\n",
       "        ['cotton'],\n",
       "        ['lentil'],\n",
       "        ['papaya'],\n",
       "        ['cotton'],\n",
       "        ['coffee'],\n",
       "        ['chickpea'],\n",
       "        ['maize'],\n",
       "        ['blackgram'],\n",
       "        ['pomegranate'],\n",
       "        ['jute'],\n",
       "        ['orange'],\n",
       "        ['cotton'],\n",
       "        ['watermelon'],\n",
       "        ['blackgram'],\n",
       "        ['pomegranate'],\n",
       "        ['blackgram'],\n",
       "        ['pigeonpeas'],\n",
       "        ['cotton'],\n",
       "        ['maize'],\n",
       "        ['banana'],\n",
       "        ['rice'],\n",
       "        ['watermelon'],\n",
       "        ['chickpea'],\n",
       "        ['rice'],\n",
       "        ['orange'],\n",
       "        ['watermelon']], dtype=object))"
      ]
     },
     "execution_count": 196,
     "metadata": {},
     "output_type": "execute_result"
    }
   ],
   "source": [
    "from sklearn.model_selection import train_test_split\n",
    "x_train,x_test,y_train,y_test=train_test_split(x,y,test_size=0.2,random_state=100)\n",
    "x_train,x_test,y_train,y_test"
   ]
  },
  {
   "cell_type": "code",
   "execution_count": null,
   "metadata": {},
   "outputs": [
    {
     "data": {
      "text/plain": [
       "((1760, 7), (1760, 1))"
      ]
     },
     "execution_count": 197,
     "metadata": {},
     "output_type": "execute_result"
    }
   ],
   "source": [
    "x_train.shape,y_train.shape"
   ]
  },
  {
   "cell_type": "code",
   "execution_count": null,
   "metadata": {},
   "outputs": [
    {
     "data": {
      "text/plain": [
       "((440, 7), (440, 1))"
      ]
     },
     "execution_count": 198,
     "metadata": {},
     "output_type": "execute_result"
    }
   ],
   "source": [
    "x_test.shape,y_test.shape"
   ]
  },
  {
   "cell_type": "code",
   "execution_count": null,
   "metadata": {},
   "outputs": [],
   "source": [
    "from sklearn import tree\n",
    "clf = tree.DecisionTreeClassifier()\n",
    "\n",
    "# Train Decision Tree Classifer\n",
    "clf = clf.fit(x_train,y_train)\n"
   ]
  },
  {
   "cell_type": "code",
   "execution_count": null,
   "metadata": {},
   "outputs": [
    {
     "data": {
      "text/plain": [
       "array(['papaya', 'papaya', 'pomegranate', 'cotton', 'jute', 'maize',\n",
       "       'muskmelon', 'rice', 'mungbean', 'kidneybeans', 'banana',\n",
       "       'pomegranate', 'papaya', 'mango', 'coffee', 'mothbeans',\n",
       "       'pigeonpeas', 'cotton', 'papaya', 'mothbeans', 'coconut', 'cotton',\n",
       "       'mango', 'mango', 'mungbean', 'cotton', 'apple', 'papaya',\n",
       "       'blackgram', 'mothbeans', 'cotton', 'coffee', 'pigeonpeas',\n",
       "       'mango', 'banana', 'muskmelon', 'cotton', 'papaya', 'watermelon',\n",
       "       'kidneybeans', 'jute', 'blackgram', 'maize', 'papaya', 'apple',\n",
       "       'blackgram', 'maize', 'cotton', 'mothbeans', 'pigeonpeas',\n",
       "       'grapes', 'kidneybeans', 'mothbeans', 'kidneybeans', 'mothbeans',\n",
       "       'orange', 'jute', 'orange', 'kidneybeans', 'banana', 'maize',\n",
       "       'blackgram', 'maize', 'grapes', 'lentil', 'pomegranate',\n",
       "       'kidneybeans', 'grapes', 'orange', 'kidneybeans', 'pomegranate',\n",
       "       'grapes', 'jute', 'watermelon', 'blackgram', 'kidneybeans', 'jute',\n",
       "       'coffee', 'mungbean', 'grapes', 'cotton', 'apple', 'kidneybeans',\n",
       "       'apple', 'muskmelon', 'pomegranate', 'watermelon', 'coffee',\n",
       "       'blackgram', 'cotton', 'orange', 'jute', 'cotton', 'pomegranate',\n",
       "       'mango', 'apple', 'maize', 'cotton', 'mango', 'grapes',\n",
       "       'pomegranate', 'cotton', 'coffee', 'apple', 'blackgram', 'maize',\n",
       "       'pomegranate', 'mothbeans', 'banana', 'kidneybeans', 'lentil',\n",
       "       'apple', 'coconut', 'coconut', 'mango', 'lentil', 'chickpea',\n",
       "       'mothbeans', 'mungbean', 'maize', 'mango', 'coconut', 'blackgram',\n",
       "       'coffee', 'orange', 'jute', 'chickpea', 'mungbean', 'lentil',\n",
       "       'watermelon', 'coconut', 'apple', 'papaya', 'rice', 'banana',\n",
       "       'grapes', 'grapes', 'papaya', 'papaya', 'rice', 'banana',\n",
       "       'kidneybeans', 'coffee', 'muskmelon', 'maize', 'rice',\n",
       "       'pomegranate', 'pomegranate', 'grapes', 'apple', 'muskmelon',\n",
       "       'muskmelon', 'papaya', 'coconut', 'chickpea', 'banana', 'jute',\n",
       "       'watermelon', 'orange', 'papaya', 'papaya', 'chickpea', 'banana',\n",
       "       'coffee', 'pomegranate', 'chickpea', 'lentil', 'jute', 'mothbeans',\n",
       "       'pigeonpeas', 'coconut', 'kidneybeans', 'rice', 'chickpea',\n",
       "       'cotton', 'banana', 'mothbeans', 'mango', 'mungbean', 'coconut',\n",
       "       'grapes', 'lentil', 'pigeonpeas', 'coffee', 'lentil', 'cotton',\n",
       "       'mothbeans', 'jute', 'chickpea', 'rice', 'muskmelon', 'apple',\n",
       "       'mothbeans', 'banana', 'coffee', 'chickpea', 'kidneybeans',\n",
       "       'chickpea', 'orange', 'kidneybeans', 'kidneybeans', 'maize',\n",
       "       'orange', 'cotton', 'cotton', 'chickpea', 'grapes', 'banana',\n",
       "       'muskmelon', 'muskmelon', 'banana', 'jute', 'rice', 'blackgram',\n",
       "       'mothbeans', 'pomegranate', 'coffee', 'rice', 'orange', 'orange',\n",
       "       'mothbeans', 'mango', 'coconut', 'chickpea', 'mango', 'rice',\n",
       "       'pomegranate', 'orange', 'mango', 'mango', 'mungbean', 'coconut',\n",
       "       'pomegranate', 'chickpea', 'pomegranate', 'papaya', 'rice', 'jute',\n",
       "       'mothbeans', 'mungbean', 'jute', 'banana', 'mango', 'orange',\n",
       "       'mungbean', 'kidneybeans', 'mango', 'coffee', 'jute', 'pigeonpeas',\n",
       "       'muskmelon', 'pomegranate', 'chickpea', 'grapes', 'coconut',\n",
       "       'banana', 'pigeonpeas', 'apple', 'cotton', 'chickpea', 'chickpea',\n",
       "       'cotton', 'chickpea', 'lentil', 'blackgram', 'mothbeans', 'jute',\n",
       "       'mungbean', 'coconut', 'mothbeans', 'pomegranate', 'pigeonpeas',\n",
       "       'pigeonpeas', 'jute', 'apple', 'coconut', 'apple', 'chickpea',\n",
       "       'pigeonpeas', 'coffee', 'orange', 'blackgram', 'lentil',\n",
       "       'chickpea', 'coconut', 'pomegranate', 'mothbeans', 'papaya',\n",
       "       'grapes', 'maize', 'banana', 'pigeonpeas', 'muskmelon', 'rice',\n",
       "       'kidneybeans', 'grapes', 'cotton', 'mango', 'coconut', 'maize',\n",
       "       'coconut', 'banana', 'jute', 'watermelon', 'watermelon', 'coconut',\n",
       "       'grapes', 'orange', 'mothbeans', 'grapes', 'pigeonpeas', 'banana',\n",
       "       'coconut', 'coffee', 'maize', 'pomegranate', 'coconut', 'coffee',\n",
       "       'papaya', 'coconut', 'chickpea', 'jute', 'mango', 'mango',\n",
       "       'mungbean', 'mungbean', 'lentil', 'blackgram', 'banana', 'maize',\n",
       "       'apple', 'maize', 'lentil', 'coffee', 'papaya', 'rice',\n",
       "       'watermelon', 'mothbeans', 'watermelon', 'coffee', 'coffee',\n",
       "       'muskmelon', 'pigeonpeas', 'kidneybeans', 'chickpea', 'rice',\n",
       "       'blackgram', 'banana', 'grapes', 'jute', 'blackgram', 'coffee',\n",
       "       'pomegranate', 'chickpea', 'papaya', 'orange', 'chickpea',\n",
       "       'muskmelon', 'banana', 'rice', 'chickpea', 'maize', 'kidneybeans',\n",
       "       'coffee', 'orange', 'rice', 'lentil', 'blackgram', 'lentil',\n",
       "       'rice', 'cotton', 'apple', 'muskmelon', 'maize', 'lentil',\n",
       "       'blackgram', 'mothbeans', 'lentil', 'blackgram', 'lentil',\n",
       "       'pomegranate', 'coconut', 'mango', 'coconut', 'cotton', 'orange',\n",
       "       'coconut', 'rice', 'papaya', 'lentil', 'rice', 'apple', 'coffee',\n",
       "       'watermelon', 'pigeonpeas', 'lentil', 'mungbean', 'jute', 'cotton',\n",
       "       'watermelon', 'grapes', 'coconut', 'pomegranate', 'apple',\n",
       "       'grapes', 'apple', 'muskmelon', 'orange', 'kidneybeans',\n",
       "       'blackgram', 'cotton', 'grapes', 'mango', 'coffee', 'cotton',\n",
       "       'lentil', 'papaya', 'cotton', 'coffee', 'chickpea', 'maize',\n",
       "       'blackgram', 'pomegranate', 'jute', 'orange', 'cotton',\n",
       "       'watermelon', 'blackgram', 'pomegranate', 'blackgram',\n",
       "       'pigeonpeas', 'cotton', 'maize', 'banana', 'rice', 'watermelon',\n",
       "       'chickpea', 'rice', 'orange', 'watermelon'], dtype=object)"
      ]
     },
     "execution_count": 200,
     "metadata": {},
     "output_type": "execute_result"
    }
   ],
   "source": [
    "y_pred = clf.predict(x_test)\n",
    "y_pred"
   ]
  },
  {
   "cell_type": "markdown",
   "metadata": {},
   "source": [
    "lg.score(x_test,y_test)"
   ]
  },
  {
   "cell_type": "code",
   "execution_count": null,
   "metadata": {},
   "outputs": [
    {
     "data": {
      "text/plain": [
       "0.9818181818181818"
      ]
     },
     "execution_count": 201,
     "metadata": {},
     "output_type": "execute_result"
    }
   ],
   "source": [
    " from sklearn import metrics\n",
    " accuracy = metrics.accuracy_score(y_test, y_pred)\n",
    " accuracy "
   ]
  },
  {
   "cell_type": "code",
   "execution_count": null,
   "metadata": {},
   "outputs": [
    {
     "data": {
      "text/plain": [
       "array(['rice'], dtype=object)"
      ]
     },
     "execution_count": 202,
     "metadata": {},
     "output_type": "execute_result"
    }
   ],
   "source": [
    "clf.predict([[90,42,43,20.8,82.00,6.5,202]])"
   ]
  },
  {
   "cell_type": "code",
   "execution_count": null,
   "metadata": {},
   "outputs": [
    {
     "name": "stderr",
     "output_type": "stream",
     "text": [
      "C:\\Users\\gbavi\\AppData\\Roaming\\Python\\Python310\\site-packages\\sklearn\\neighbors\\_classification.py:198: DataConversionWarning: A column-vector y was passed when a 1d array was expected. Please change the shape of y to (n_samples,), for example using ravel().\n",
      "  return self._fit(X, y)\n"
     ]
    },
    {
     "data": {
      "text/plain": [
       "KNeighborsClassifier(n_neighbors=3)"
      ]
     },
     "execution_count": 203,
     "metadata": {},
     "output_type": "execute_result"
    }
   ],
   "source": [
    "from sklearn.neighbors import KNeighborsClassifier\n",
    "neigh = KNeighborsClassifier(n_neighbors=3)\n",
    "neigh.fit(x_train,y_train)\n"
   ]
  },
  {
   "cell_type": "code",
   "execution_count": null,
   "metadata": {},
   "outputs": [
    {
     "data": {
      "text/plain": [
       "array(['papaya', 'papaya', 'pomegranate', 'cotton', 'jute', 'maize',\n",
       "       'muskmelon', 'rice', 'mungbean', 'kidneybeans', 'banana',\n",
       "       'pomegranate', 'papaya', 'mango', 'coffee', 'mothbeans',\n",
       "       'pigeonpeas', 'cotton', 'papaya', 'lentil', 'coconut', 'cotton',\n",
       "       'mango', 'mango', 'mungbean', 'cotton', 'apple', 'papaya',\n",
       "       'blackgram', 'mothbeans', 'cotton', 'coffee', 'kidneybeans',\n",
       "       'mango', 'banana', 'muskmelon', 'cotton', 'papaya', 'watermelon',\n",
       "       'kidneybeans', 'jute', 'blackgram', 'maize', 'jute', 'apple',\n",
       "       'blackgram', 'maize', 'cotton', 'mothbeans', 'pigeonpeas',\n",
       "       'grapes', 'kidneybeans', 'mothbeans', 'kidneybeans', 'mothbeans',\n",
       "       'orange', 'jute', 'orange', 'kidneybeans', 'banana', 'cotton',\n",
       "       'blackgram', 'maize', 'grapes', 'lentil', 'pomegranate',\n",
       "       'kidneybeans', 'grapes', 'orange', 'kidneybeans', 'pomegranate',\n",
       "       'grapes', 'jute', 'watermelon', 'blackgram', 'kidneybeans', 'jute',\n",
       "       'coffee', 'mungbean', 'grapes', 'cotton', 'apple', 'kidneybeans',\n",
       "       'apple', 'muskmelon', 'pomegranate', 'papaya', 'coffee',\n",
       "       'blackgram', 'cotton', 'orange', 'jute', 'cotton', 'pomegranate',\n",
       "       'mango', 'apple', 'maize', 'cotton', 'mango', 'grapes',\n",
       "       'pomegranate', 'cotton', 'coffee', 'apple', 'blackgram', 'maize',\n",
       "       'pomegranate', 'mothbeans', 'banana', 'kidneybeans', 'lentil',\n",
       "       'apple', 'coconut', 'coconut', 'mango', 'lentil', 'chickpea',\n",
       "       'mothbeans', 'mungbean', 'maize', 'mango', 'coconut', 'blackgram',\n",
       "       'coffee', 'orange', 'jute', 'chickpea', 'mungbean', 'lentil',\n",
       "       'watermelon', 'coconut', 'apple', 'papaya', 'rice', 'banana',\n",
       "       'grapes', 'grapes', 'jute', 'papaya', 'jute', 'banana',\n",
       "       'kidneybeans', 'coffee', 'muskmelon', 'maize', 'rice',\n",
       "       'pomegranate', 'pomegranate', 'grapes', 'apple', 'muskmelon',\n",
       "       'muskmelon', 'papaya', 'coconut', 'chickpea', 'banana', 'jute',\n",
       "       'watermelon', 'orange', 'papaya', 'papaya', 'chickpea', 'banana',\n",
       "       'coffee', 'pomegranate', 'chickpea', 'lentil', 'jute', 'lentil',\n",
       "       'kidneybeans', 'coconut', 'kidneybeans', 'rice', 'chickpea',\n",
       "       'cotton', 'banana', 'mothbeans', 'mango', 'mungbean', 'coconut',\n",
       "       'grapes', 'lentil', 'pigeonpeas', 'coffee', 'lentil', 'cotton',\n",
       "       'lentil', 'jute', 'chickpea', 'rice', 'muskmelon', 'apple',\n",
       "       'mothbeans', 'banana', 'coffee', 'chickpea', 'kidneybeans',\n",
       "       'chickpea', 'orange', 'kidneybeans', 'kidneybeans', 'maize',\n",
       "       'orange', 'cotton', 'cotton', 'chickpea', 'grapes', 'banana',\n",
       "       'muskmelon', 'muskmelon', 'banana', 'jute', 'rice', 'blackgram',\n",
       "       'mothbeans', 'pomegranate', 'coffee', 'rice', 'orange', 'orange',\n",
       "       'mothbeans', 'mango', 'coconut', 'chickpea', 'mango', 'maize',\n",
       "       'pomegranate', 'orange', 'mango', 'mango', 'mungbean', 'coconut',\n",
       "       'pomegranate', 'chickpea', 'pomegranate', 'papaya', 'rice', 'jute',\n",
       "       'mothbeans', 'mungbean', 'jute', 'banana', 'mango', 'orange',\n",
       "       'mungbean', 'kidneybeans', 'mango', 'coffee', 'jute', 'pigeonpeas',\n",
       "       'muskmelon', 'pomegranate', 'chickpea', 'grapes', 'coconut',\n",
       "       'banana', 'blackgram', 'apple', 'cotton', 'chickpea', 'chickpea',\n",
       "       'cotton', 'chickpea', 'lentil', 'blackgram', 'mothbeans', 'jute',\n",
       "       'mungbean', 'coconut', 'mothbeans', 'pomegranate', 'pigeonpeas',\n",
       "       'pigeonpeas', 'jute', 'apple', 'coconut', 'apple', 'chickpea',\n",
       "       'pigeonpeas', 'coffee', 'orange', 'blackgram', 'lentil',\n",
       "       'chickpea', 'coconut', 'pomegranate', 'mothbeans', 'papaya',\n",
       "       'grapes', 'maize', 'banana', 'pigeonpeas', 'muskmelon', 'rice',\n",
       "       'kidneybeans', 'grapes', 'cotton', 'mango', 'coconut', 'maize',\n",
       "       'coconut', 'banana', 'rice', 'watermelon', 'watermelon', 'coconut',\n",
       "       'grapes', 'orange', 'mothbeans', 'grapes', 'pigeonpeas', 'banana',\n",
       "       'coconut', 'coffee', 'maize', 'pomegranate', 'coconut', 'coffee',\n",
       "       'papaya', 'coconut', 'chickpea', 'jute', 'mango', 'mango',\n",
       "       'mungbean', 'mungbean', 'lentil', 'blackgram', 'banana', 'maize',\n",
       "       'apple', 'blackgram', 'lentil', 'coffee', 'papaya', 'rice',\n",
       "       'watermelon', 'mothbeans', 'watermelon', 'coffee', 'coffee',\n",
       "       'muskmelon', 'pigeonpeas', 'kidneybeans', 'chickpea', 'rice',\n",
       "       'blackgram', 'banana', 'grapes', 'jute', 'blackgram', 'coffee',\n",
       "       'pomegranate', 'chickpea', 'papaya', 'orange', 'chickpea',\n",
       "       'muskmelon', 'banana', 'jute', 'chickpea', 'maize', 'kidneybeans',\n",
       "       'coffee', 'orange', 'rice', 'lentil', 'blackgram', 'lentil',\n",
       "       'rice', 'cotton', 'apple', 'muskmelon', 'maize', 'lentil',\n",
       "       'blackgram', 'lentil', 'lentil', 'blackgram', 'lentil',\n",
       "       'pomegranate', 'coconut', 'mango', 'coconut', 'cotton', 'orange',\n",
       "       'coconut', 'rice', 'papaya', 'lentil', 'maize', 'apple', 'coffee',\n",
       "       'watermelon', 'pigeonpeas', 'lentil', 'mungbean', 'jute', 'jute',\n",
       "       'watermelon', 'grapes', 'coconut', 'pomegranate', 'apple',\n",
       "       'grapes', 'apple', 'muskmelon', 'orange', 'kidneybeans',\n",
       "       'blackgram', 'cotton', 'grapes', 'mango', 'coffee', 'cotton',\n",
       "       'lentil', 'papaya', 'cotton', 'coffee', 'chickpea', 'maize',\n",
       "       'blackgram', 'pomegranate', 'jute', 'orange', 'cotton',\n",
       "       'watermelon', 'blackgram', 'pomegranate', 'blackgram',\n",
       "       'pigeonpeas', 'cotton', 'maize', 'banana', 'rice', 'watermelon',\n",
       "       'chickpea', 'rice', 'orange', 'watermelon'], dtype=object)"
      ]
     },
     "execution_count": 204,
     "metadata": {},
     "output_type": "execute_result"
    }
   ],
   "source": [
    "y_pred1=neigh.predict(x_test)\n",
    "y_pred1"
   ]
  },
  {
   "cell_type": "code",
   "execution_count": null,
   "metadata": {},
   "outputs": [
    {
     "data": {
      "text/plain": [
       "0.9772727272727273"
      ]
     },
     "execution_count": 205,
     "metadata": {},
     "output_type": "execute_result"
    }
   ],
   "source": [
    " from sklearn import metrics\n",
    " accuracy = metrics.accuracy_score(y_test, y_pred1)\n",
    " accuracy "
   ]
  },
  {
   "cell_type": "code",
   "execution_count": null,
   "metadata": {},
   "outputs": [
    {
     "name": "stderr",
     "output_type": "stream",
     "text": [
      "C:\\Users\\gbavi\\AppData\\Local\\Temp\\ipykernel_21224\\3017756853.py:7: DataConversionWarning: A column-vector y was passed when a 1d array was expected. Please change the shape of y to (n_samples,), for example using ravel().\n",
      "  rf.fit(x_train,y_train)\n"
     ]
    },
    {
     "data": {
      "text/plain": [
       "RandomForestClassifier(n_estimators=8)"
      ]
     },
     "execution_count": 206,
     "metadata": {},
     "output_type": "execute_result"
    }
   ],
   "source": [
    "from sklearn.ensemble import RandomForestClassifier\n",
    "\n",
    "#Create a Gaussian Classifier\n",
    "rf=RandomForestClassifier(n_estimators=8,bootstrap=True)\n",
    "\n",
    "#Train the model using the training sets y_pred=clf.predict(X_test)\n",
    "rf.fit(x_train,y_train)\n"
   ]
  },
  {
   "cell_type": "code",
   "execution_count": null,
   "metadata": {},
   "outputs": [
    {
     "data": {
      "text/plain": [
       "array(['papaya', 'papaya', 'pomegranate', 'cotton', 'jute', 'maize',\n",
       "       'muskmelon', 'rice', 'mungbean', 'kidneybeans', 'banana',\n",
       "       'pomegranate', 'papaya', 'mango', 'coffee', 'mothbeans',\n",
       "       'pigeonpeas', 'cotton', 'papaya', 'mothbeans', 'coconut', 'cotton',\n",
       "       'mango', 'mango', 'mungbean', 'cotton', 'apple', 'papaya',\n",
       "       'blackgram', 'mothbeans', 'cotton', 'coffee', 'pigeonpeas',\n",
       "       'mango', 'banana', 'muskmelon', 'cotton', 'papaya', 'watermelon',\n",
       "       'kidneybeans', 'jute', 'blackgram', 'maize', 'papaya', 'apple',\n",
       "       'blackgram', 'maize', 'cotton', 'mothbeans', 'pigeonpeas',\n",
       "       'grapes', 'kidneybeans', 'mothbeans', 'kidneybeans', 'mothbeans',\n",
       "       'orange', 'jute', 'orange', 'kidneybeans', 'banana', 'maize',\n",
       "       'blackgram', 'maize', 'grapes', 'lentil', 'pomegranate',\n",
       "       'kidneybeans', 'grapes', 'orange', 'kidneybeans', 'pomegranate',\n",
       "       'grapes', 'jute', 'watermelon', 'blackgram', 'kidneybeans', 'jute',\n",
       "       'coffee', 'mungbean', 'grapes', 'cotton', 'apple', 'kidneybeans',\n",
       "       'apple', 'muskmelon', 'pomegranate', 'papaya', 'coffee',\n",
       "       'blackgram', 'cotton', 'orange', 'jute', 'cotton', 'pomegranate',\n",
       "       'mango', 'apple', 'maize', 'cotton', 'mango', 'grapes',\n",
       "       'pomegranate', 'cotton', 'coffee', 'apple', 'blackgram', 'maize',\n",
       "       'pomegranate', 'mothbeans', 'banana', 'kidneybeans', 'lentil',\n",
       "       'apple', 'coconut', 'coconut', 'mango', 'lentil', 'chickpea',\n",
       "       'mothbeans', 'mungbean', 'maize', 'mango', 'coconut', 'blackgram',\n",
       "       'coffee', 'orange', 'jute', 'chickpea', 'mungbean', 'lentil',\n",
       "       'watermelon', 'coconut', 'apple', 'papaya', 'rice', 'banana',\n",
       "       'grapes', 'grapes', 'papaya', 'papaya', 'rice', 'banana',\n",
       "       'kidneybeans', 'coffee', 'muskmelon', 'maize', 'rice',\n",
       "       'pomegranate', 'pomegranate', 'grapes', 'apple', 'muskmelon',\n",
       "       'muskmelon', 'papaya', 'coconut', 'chickpea', 'banana', 'jute',\n",
       "       'watermelon', 'orange', 'papaya', 'papaya', 'chickpea', 'banana',\n",
       "       'coffee', 'pomegranate', 'chickpea', 'lentil', 'jute', 'lentil',\n",
       "       'pigeonpeas', 'coconut', 'kidneybeans', 'rice', 'chickpea',\n",
       "       'cotton', 'banana', 'mothbeans', 'mango', 'mungbean', 'coconut',\n",
       "       'grapes', 'lentil', 'pigeonpeas', 'coffee', 'lentil', 'cotton',\n",
       "       'lentil', 'jute', 'chickpea', 'rice', 'muskmelon', 'apple',\n",
       "       'mothbeans', 'banana', 'coffee', 'chickpea', 'kidneybeans',\n",
       "       'chickpea', 'orange', 'kidneybeans', 'kidneybeans', 'maize',\n",
       "       'orange', 'cotton', 'cotton', 'chickpea', 'grapes', 'banana',\n",
       "       'muskmelon', 'muskmelon', 'banana', 'jute', 'rice', 'blackgram',\n",
       "       'mothbeans', 'pomegranate', 'coffee', 'rice', 'orange', 'orange',\n",
       "       'mothbeans', 'mango', 'coconut', 'chickpea', 'mango', 'maize',\n",
       "       'pomegranate', 'orange', 'mango', 'mango', 'mungbean', 'coconut',\n",
       "       'pomegranate', 'chickpea', 'pomegranate', 'papaya', 'rice', 'jute',\n",
       "       'mothbeans', 'mungbean', 'jute', 'banana', 'mango', 'orange',\n",
       "       'mungbean', 'kidneybeans', 'mango', 'coffee', 'jute', 'pigeonpeas',\n",
       "       'muskmelon', 'pomegranate', 'chickpea', 'grapes', 'coconut',\n",
       "       'banana', 'pigeonpeas', 'apple', 'cotton', 'chickpea', 'chickpea',\n",
       "       'cotton', 'chickpea', 'lentil', 'blackgram', 'mothbeans', 'jute',\n",
       "       'mungbean', 'coconut', 'mothbeans', 'pomegranate', 'pigeonpeas',\n",
       "       'pigeonpeas', 'jute', 'apple', 'coconut', 'apple', 'chickpea',\n",
       "       'pigeonpeas', 'coffee', 'orange', 'blackgram', 'lentil',\n",
       "       'chickpea', 'coconut', 'pomegranate', 'mothbeans', 'papaya',\n",
       "       'grapes', 'maize', 'banana', 'pigeonpeas', 'muskmelon', 'rice',\n",
       "       'kidneybeans', 'grapes', 'cotton', 'mango', 'coconut', 'maize',\n",
       "       'coconut', 'banana', 'jute', 'watermelon', 'watermelon', 'coconut',\n",
       "       'grapes', 'orange', 'mothbeans', 'grapes', 'pigeonpeas', 'banana',\n",
       "       'coconut', 'coffee', 'maize', 'pomegranate', 'coconut', 'coffee',\n",
       "       'papaya', 'coconut', 'chickpea', 'jute', 'mango', 'mango',\n",
       "       'mungbean', 'mungbean', 'lentil', 'blackgram', 'banana', 'maize',\n",
       "       'apple', 'maize', 'lentil', 'coffee', 'papaya', 'rice',\n",
       "       'watermelon', 'mothbeans', 'watermelon', 'coffee', 'coffee',\n",
       "       'muskmelon', 'pigeonpeas', 'kidneybeans', 'chickpea', 'rice',\n",
       "       'blackgram', 'banana', 'grapes', 'jute', 'blackgram', 'coffee',\n",
       "       'pomegranate', 'chickpea', 'papaya', 'orange', 'chickpea',\n",
       "       'muskmelon', 'banana', 'jute', 'chickpea', 'maize', 'kidneybeans',\n",
       "       'coffee', 'orange', 'rice', 'lentil', 'blackgram', 'lentil',\n",
       "       'rice', 'cotton', 'apple', 'muskmelon', 'maize', 'lentil',\n",
       "       'blackgram', 'mothbeans', 'lentil', 'blackgram', 'lentil',\n",
       "       'pomegranate', 'coconut', 'mango', 'coconut', 'cotton', 'orange',\n",
       "       'coconut', 'rice', 'papaya', 'lentil', 'maize', 'apple', 'coffee',\n",
       "       'watermelon', 'pigeonpeas', 'lentil', 'mungbean', 'jute', 'jute',\n",
       "       'watermelon', 'grapes', 'coconut', 'pomegranate', 'apple',\n",
       "       'grapes', 'apple', 'muskmelon', 'orange', 'kidneybeans',\n",
       "       'blackgram', 'cotton', 'grapes', 'mango', 'coffee', 'cotton',\n",
       "       'lentil', 'papaya', 'cotton', 'coffee', 'chickpea', 'maize',\n",
       "       'blackgram', 'pomegranate', 'jute', 'orange', 'cotton',\n",
       "       'watermelon', 'blackgram', 'pomegranate', 'blackgram',\n",
       "       'pigeonpeas', 'cotton', 'maize', 'banana', 'rice', 'watermelon',\n",
       "       'chickpea', 'rice', 'orange', 'watermelon'], dtype=object)"
      ]
     },
     "execution_count": 207,
     "metadata": {},
     "output_type": "execute_result"
    }
   ],
   "source": [
    "y_pred2=rf.predict(x_test)\n",
    "y_pred2"
   ]
  },
  {
   "cell_type": "code",
   "execution_count": null,
   "metadata": {},
   "outputs": [
    {
     "data": {
      "text/plain": [
       "0.9977272727272727"
      ]
     },
     "execution_count": 208,
     "metadata": {},
     "output_type": "execute_result"
    }
   ],
   "source": [
    " from sklearn import metrics\n",
    " accuracy = metrics.accuracy_score(y_test, y_pred2)\n",
    " accuracy "
   ]
  },
  {
   "cell_type": "code",
   "execution_count": null,
   "metadata": {},
   "outputs": [
    {
     "data": {
      "text/plain": [
       "array([[18,  0,  0,  0,  0,  0,  0,  0,  0,  0,  0,  0,  0,  0,  0,  0,\n",
       "         0,  0,  0,  0,  0,  0],\n",
       "       [ 0, 21,  0,  0,  0,  0,  0,  0,  0,  0,  0,  0,  0,  0,  0,  0,\n",
       "         0,  0,  0,  0,  0,  0],\n",
       "       [ 0,  0, 21,  0,  0,  0,  0,  0,  0,  0,  0,  1,  0,  0,  0,  0,\n",
       "         0,  0,  0,  0,  0,  0],\n",
       "       [ 0,  0,  0, 25,  0,  0,  0,  0,  0,  0,  0,  0,  0,  0,  0,  0,\n",
       "         0,  0,  0,  0,  0,  0],\n",
       "       [ 0,  0,  0,  0, 24,  0,  0,  0,  0,  0,  0,  0,  0,  0,  0,  0,\n",
       "         0,  0,  0,  0,  0,  0],\n",
       "       [ 0,  0,  0,  0,  0, 23,  0,  0,  0,  0,  0,  0,  0,  0,  0,  0,\n",
       "         0,  0,  0,  0,  0,  0],\n",
       "       [ 0,  0,  0,  0,  0,  0, 26,  0,  0,  0,  0,  0,  0,  0,  0,  0,\n",
       "         0,  0,  0,  0,  0,  0],\n",
       "       [ 0,  0,  0,  0,  0,  0,  0, 20,  0,  0,  0,  0,  0,  0,  0,  0,\n",
       "         0,  0,  0,  0,  0,  0],\n",
       "       [ 0,  0,  0,  0,  0,  0,  0,  0, 23,  0,  0,  0,  0,  0,  0,  0,\n",
       "         0,  0,  0,  0,  0,  0],\n",
       "       [ 0,  0,  0,  0,  0,  0,  0,  0,  0, 20,  0,  0,  0,  0,  0,  0,\n",
       "         0,  0,  0,  0,  0,  0],\n",
       "       [ 0,  0,  0,  0,  0,  0,  0,  0,  0,  0, 21,  0,  0,  0,  0,  0,\n",
       "         0,  0,  0,  0,  0,  0],\n",
       "       [ 0,  0,  0,  0,  0,  0,  0,  0,  0,  0,  0, 20,  0,  0,  0,  0,\n",
       "         0,  0,  0,  0,  0,  0],\n",
       "       [ 0,  0,  0,  0,  0,  0,  0,  0,  0,  0,  0,  0, 20,  0,  0,  0,\n",
       "         0,  0,  0,  0,  0,  0],\n",
       "       [ 0,  0,  0,  0,  0,  0,  0,  0,  0,  0,  0,  0,  0, 19,  0,  0,\n",
       "         0,  0,  0,  0,  0,  0],\n",
       "       [ 0,  0,  0,  0,  0,  0,  0,  0,  0,  0,  0,  0,  0,  0, 13,  0,\n",
       "         0,  0,  0,  0,  0,  0],\n",
       "       [ 0,  0,  0,  0,  0,  0,  0,  0,  0,  0,  0,  0,  0,  0,  0, 15,\n",
       "         0,  0,  0,  0,  0,  0],\n",
       "       [ 0,  0,  0,  0,  0,  0,  0,  0,  0,  0,  0,  0,  0,  0,  0,  0,\n",
       "        20,  0,  0,  0,  0,  0],\n",
       "       [ 0,  0,  0,  0,  0,  0,  0,  0,  0,  0,  0,  0,  0,  0,  0,  0,\n",
       "         0, 21,  0,  0,  0,  0],\n",
       "       [ 0,  0,  0,  0,  0,  0,  0,  0,  0,  0,  0,  0,  0,  0,  0,  0,\n",
       "         0,  0, 15,  0,  0,  0],\n",
       "       [ 0,  0,  0,  0,  0,  0,  0,  0,  0,  0,  0,  0,  0,  0,  0,  0,\n",
       "         0,  0,  0, 24,  0,  0],\n",
       "       [ 0,  0,  0,  0,  0,  0,  0,  0,  0,  0,  0,  0,  0,  0,  0,  0,\n",
       "         0,  0,  0,  0, 17,  0],\n",
       "       [ 0,  0,  0,  0,  0,  0,  0,  0,  0,  0,  0,  0,  0,  0,  0,  0,\n",
       "         0,  0,  0,  0,  0, 13]], dtype=int64)"
      ]
     },
     "execution_count": 209,
     "metadata": {},
     "output_type": "execute_result"
    }
   ],
   "source": [
    "from sklearn.metrics import confusion_matrix\n",
    "cm=confusion_matrix(y_test,y_pred2)\n",
    "cm"
   ]
  },
  {
   "cell_type": "code",
   "execution_count": null,
   "metadata": {},
   "outputs": [
    {
     "data": {
      "text/plain": [
       "array([[18,  0,  0,  0,  0,  0,  0,  0,  0,  0,  0,  0,  0,  0,  0,  0,\n",
       "         0,  0,  0,  0,  0,  0],\n",
       "       [ 0, 21,  0,  0,  0,  0,  0,  0,  0,  0,  0,  0,  0,  0,  0,  0,\n",
       "         0,  0,  0,  0,  0,  0],\n",
       "       [ 0,  0, 22,  0,  0,  0,  0,  0,  0,  0,  0,  0,  0,  0,  0,  0,\n",
       "         0,  0,  0,  0,  0,  0],\n",
       "       [ 0,  0,  0, 25,  0,  0,  0,  0,  0,  0,  0,  0,  0,  0,  0,  0,\n",
       "         0,  0,  0,  0,  0,  0],\n",
       "       [ 0,  0,  0,  0, 24,  0,  0,  0,  0,  0,  0,  0,  0,  0,  0,  0,\n",
       "         0,  0,  0,  0,  0,  0],\n",
       "       [ 0,  0,  0,  0,  0, 23,  0,  0,  0,  0,  0,  0,  0,  0,  0,  0,\n",
       "         0,  0,  0,  0,  0,  0],\n",
       "       [ 0,  0,  0,  0,  0,  0, 26,  0,  0,  0,  0,  0,  0,  0,  0,  0,\n",
       "         0,  0,  0,  0,  0,  0],\n",
       "       [ 0,  0,  0,  0,  0,  0,  0, 20,  0,  0,  0,  0,  0,  0,  0,  0,\n",
       "         0,  0,  0,  0,  0,  0],\n",
       "       [ 0,  0,  0,  0,  0,  0,  0,  0, 22,  0,  0,  0,  0,  0,  0,  0,\n",
       "         0,  0,  0,  0,  1,  0],\n",
       "       [ 0,  0,  0,  0,  0,  0,  0,  0,  0, 20,  0,  0,  0,  0,  0,  0,\n",
       "         0,  0,  0,  0,  0,  0],\n",
       "       [ 0,  0,  0,  0,  0,  0,  0,  0,  0,  0, 21,  0,  0,  0,  0,  0,\n",
       "         0,  0,  0,  0,  0,  0],\n",
       "       [ 0,  0,  0,  0,  0,  0,  1,  0,  0,  0,  0, 19,  0,  0,  0,  0,\n",
       "         0,  0,  0,  0,  0,  0],\n",
       "       [ 0,  0,  0,  0,  0,  0,  0,  0,  0,  0,  0,  0, 20,  0,  0,  0,\n",
       "         0,  0,  0,  0,  0,  0],\n",
       "       [ 0,  0,  0,  0,  0,  0,  0,  0,  0,  0,  2,  0,  0, 17,  0,  0,\n",
       "         0,  0,  0,  0,  0,  0],\n",
       "       [ 0,  0,  0,  0,  0,  0,  0,  0,  0,  0,  0,  0,  0,  0, 13,  0,\n",
       "         0,  0,  0,  0,  0,  0],\n",
       "       [ 0,  0,  0,  0,  0,  0,  0,  0,  0,  0,  0,  0,  0,  0,  0, 15,\n",
       "         0,  0,  0,  0,  0,  0],\n",
       "       [ 0,  0,  0,  0,  0,  0,  0,  0,  0,  0,  0,  0,  0,  0,  0,  0,\n",
       "        20,  0,  0,  0,  0,  0],\n",
       "       [ 0,  0,  0,  0,  0,  0,  0,  0,  2,  0,  0,  0,  0,  0,  0,  0,\n",
       "         0, 19,  0,  0,  0,  0],\n",
       "       [ 0,  0,  1,  0,  0,  0,  0,  0,  0,  2,  0,  0,  0,  0,  0,  0,\n",
       "         0,  0, 12,  0,  0,  0],\n",
       "       [ 0,  0,  0,  0,  0,  0,  0,  0,  0,  0,  0,  0,  0,  0,  0,  0,\n",
       "         0,  0,  0, 24,  0,  0],\n",
       "       [ 0,  0,  0,  0,  0,  0,  0,  0,  1,  0,  0,  0,  0,  0,  0,  0,\n",
       "         0,  0,  0,  0, 16,  0],\n",
       "       [ 0,  0,  0,  0,  0,  0,  0,  0,  0,  0,  0,  0,  0,  0,  0,  0,\n",
       "         0,  0,  0,  0,  0, 13]], dtype=int64)"
      ]
     },
     "execution_count": 210,
     "metadata": {},
     "output_type": "execute_result"
    }
   ],
   "source": [
    "from sklearn.metrics import confusion_matrix\n",
    "cm=confusion_matrix(y_test,y_pred1)\n",
    "cm"
   ]
  },
  {
   "cell_type": "code",
   "execution_count": null,
   "metadata": {},
   "outputs": [
    {
     "data": {
      "text/plain": [
       "Text(69.0, 0.5, 'Actual values')"
      ]
     },
     "execution_count": 211,
     "metadata": {},
     "output_type": "execute_result"
    },
    {
     "data": {
      "image/png": "[encoded data removed]",
      "text/plain": [
       "<Figure size 720x504 with 2 Axes>"
      ]
     },
     "metadata": {
      "needs_background": "light"
     },
     "output_type": "display_data"
    }
   ],
   "source": [
    "plt.figure(figsize=(10,7))\n",
    "sb.heatmap(cm,annot=True)\n",
    "plt.xlabel(\"predicted values\");\n",
    "plt.ylabel(\"Actual values\")"
   ]
  },
  {
   "cell_type": "code",
   "execution_count": null,
   "metadata": {},
   "outputs": [],
   "source": []
  }
 ],
 "metadata": {
  "interpreter": {
   "hash": "2d57cd7b807d2ade30841f69a62c4e8964173985745b13f95ec3583c08db8ab1"
  },
  "kernelspec": {
   "display_name": "Python 3.10.4 64-bit",
   "language": "python",
   "name": "python3"
  },
  "language_info": {
   "codemirror_mode": {
    "name": "ipython",
    "version": 3
   },
   "file_extension": ".py",
   "mimetype": "text/x-python",
   "name": "python",
   "nbconvert_exporter": "python",
   "pygments_lexer": "ipython3",
   "version": "3.10.4"
  },
  "orig_nbformat": 4
 },
 "nbformat": 4,
 "nbformat_minor": 2
}
